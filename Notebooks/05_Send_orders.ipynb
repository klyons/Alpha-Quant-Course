{
 "cells": [
  {
   "cell_type": "markdown",
   "id": "9f5dce74",
   "metadata": {},
   "source": [
    "# Send orders"
   ]
  },
  {
   "cell_type": "code",
   "execution_count": 1,
   "id": "3b703815",
   "metadata": {},
   "outputs": [],
   "source": [
    "# Import the libraries\n",
    "import MetaTrader5 as mt5"
   ]
  },
  {
   "cell_type": "code",
   "execution_count": 2,
   "id": "21576678",
   "metadata": {},
   "outputs": [
    {
     "data": {
      "text/plain": [
       "True"
      ]
     },
     "execution_count": 2,
     "metadata": {},
     "output_type": "execute_result"
    }
   ],
   "source": [
    "# Create the bound between MT5 and Python\n",
    "mt5.initialize()"
   ]
  },
  {
   "cell_type": "code",
   "execution_count": 8,
   "id": "01699f64",
   "metadata": {},
   "outputs": [],
   "source": [
    "def find_filling_mode(symbol):\n",
    "    \n",
    "    for i in range(2):\n",
    "        request = {\n",
    "            \"action\": mt5.TRADE_ACTION_DEAL,\n",
    "            \"symbol\": symbol,\n",
    "            \"volume\": 1.00,\n",
    "            \"type\": mt5.ORDER_TYPE_BUY,\n",
    "            \"price\": mt5.symbol_info(symbol).ask,\n",
    "            \"deviation\": 20,\n",
    "            \"type_filling\": i,\n",
    "            \"type_time\": mt5.ORDER_TIME_GTC}\n",
    "\n",
    "        result = mt5.order_check(request)\n",
    "\n",
    "        if result.comment == \"Done\":\n",
    "            break\n",
    "\n",
    "    return i"
   ]
  },
  {
   "cell_type": "code",
   "execution_count": 9,
   "id": "52d1765a",
   "metadata": {},
   "outputs": [
    {
     "data": {
      "text/plain": [
       "0"
      ]
     },
     "execution_count": 9,
     "metadata": {},
     "output_type": "execute_result"
    }
   ],
   "source": [
    "find_filling_mode(\"EURUSD\")"
   ]
  },
  {
   "cell_type": "markdown",
   "id": "54b5fa01",
   "metadata": {},
   "source": [
    "### Send buy order\n",
    "https://www.mql5.com/fr/docs/integration/python_metatrader5/mt5ordercheck_py"
   ]
  },
  {
   "cell_type": "code",
   "execution_count": 10,
   "id": "8d9c146d",
   "metadata": {},
   "outputs": [
    {
     "data": {
      "text/plain": [
       "OrderCheckResult(retcode=0, balance=10037.65, equity=10037.65, profit=0.0, margin=33.33, margin_free=10004.32, margin_level=30115.961596159617, comment='Done', request=TradeRequest(action=1, magic=0, order=0, symbol='EURUSD-Z', volume=0.01, price=1.06098, stoplimit=0.0, sl=0.0, tp=0.0, deviation=10, type=0, type_filling=0, type_time=0, expiration=0, comment='', position=0, position_by=0))"
      ]
     },
     "execution_count": 10,
     "metadata": {},
     "output_type": "execute_result"
    }
   ],
   "source": [
    "# Place buy order\n",
    "\n",
    "# Initialization value\n",
    "symbol = \"EURUSD\"\n",
    "lot = 0.01\n",
    "\n",
    "# Choose the deviation\n",
    "deviation = 10\n",
    "\n",
    "# Find the filling mode of symbol\n",
    "filling_type = find_filling_mode(symbol)\n",
    "\n",
    "# Create dictionnary request\n",
    "request = {\n",
    "    \"action\": mt5.TRADE_ACTION_DEAL,\n",
    "    \"symbol\": symbol,\n",
    "    \"volume\": lot,\n",
    "    \"type\": mt5.ORDER_TYPE_BUY,\n",
    "    \"price\": mt5.symbol_info(symbol).ask,\n",
    "    \"deviation\": deviation,\n",
    "    \"type_filling\": filling_type,\n",
    "    \"type_time\": mt5.ORDER_TIME_GTC\n",
    "}\n",
    "\n",
    "\n",
    "mt5.order_check(request)"
   ]
  },
  {
   "cell_type": "code",
   "execution_count": 30,
   "id": "bf3df3eb",
   "metadata": {},
   "outputs": [
    {
     "data": {
      "text/plain": [
       "OrderSendResult(retcode=10009, deal=0, order=1129037608, volume=0.01, price=0.0, bid=0.0, ask=0.0, comment='Request executed', request_id=11, retcode_external=0, request=TradeRequest(action=1, magic=0, order=0, symbol='EURUSD-Z', volume=0.01, price=1.06038, stoplimit=0.0, sl=0.0, tp=0.0, deviation=10, type=0, type_filling=0, type_time=0, expiration=0, comment='', position=0, position_by=0))"
      ]
     },
     "execution_count": 30,
     "metadata": {},
     "output_type": "execute_result"
    }
   ],
   "source": [
    "request = {\n",
    "    \"action\": mt5.TRADE_ACTION_DEAL,\n",
    "    \"symbol\": symbol,\n",
    "    \"volume\": lot,\n",
    "    \"type\": mt5.ORDER_TYPE_BUY,\n",
    "    \"price\": mt5.symbol_info_tick(symbol).ask,\n",
    "    \"deviation\": deviation,\n",
    "    \"type_filling\": filling_type,\n",
    "    \"type_time\": mt5.ORDER_TIME_GTC\n",
    "}\n",
    "\n",
    "mt5.order_send(request)"
   ]
  },
  {
   "cell_type": "markdown",
   "id": "8b564ed8",
   "metadata": {},
   "source": [
    "### Place sell order"
   ]
  },
  {
   "cell_type": "code",
   "execution_count": 23,
   "id": "0ca111bc",
   "metadata": {},
   "outputs": [
    {
     "data": {
      "text/plain": [
       "OrderSendResult(retcode=10009, deal=0, order=1129036424, volume=0.01, price=0.0, bid=0.0, ask=0.0, comment='Request executed', request_id=9, retcode_external=0, request=TradeRequest(action=1, magic=0, order=0, symbol='EURUSD-Z', volume=0.01, price=1.06133, stoplimit=0.0, sl=0.0, tp=0.0, deviation=10, type=1, type_filling=0, type_time=0, expiration=0, comment='', position=0, position_by=0))"
      ]
     },
     "execution_count": 23,
     "metadata": {},
     "output_type": "execute_result"
    }
   ],
   "source": [
    "request = {\n",
    "    \"action\": mt5.TRADE_ACTION_DEAL,\n",
    "    \"symbol\": symbol,\n",
    "    \"volume\": lot,\n",
    "    \"type\": mt5.ORDER_TYPE_SELL,\n",
    "    \"price\": mt5.symbol_info_tick(symbol).bid,\n",
    "    \"deviation\": deviation,\n",
    "    \"type_filling\": filling_type,\n",
    "    \"type_time\": mt5.ORDER_TIME_GTC\n",
    "}\n",
    "\n",
    "mt5.order_send(request)"
   ]
  },
  {
   "cell_type": "markdown",
   "id": "80ed8f72",
   "metadata": {},
   "source": [
    "### Close buy order"
   ]
  },
  {
   "cell_type": "code",
   "execution_count": 34,
   "id": "c250ccf7",
   "metadata": {},
   "outputs": [
    {
     "data": {
      "text/plain": [
       "OrderSendResult(retcode=10013, deal=0, order=0, volume=0.0, price=0.0, bid=0.0, ask=0.0, comment='Invalid request', request_id=0, retcode_external=0, request=TradeRequest(action=10, magic=0, order=0, symbol='', volume=0.0, price=0.0, stoplimit=0.0, sl=0.0, tp=0.0, deviation=0, type=0, type_filling=0, type_time=0, expiration=0, comment='', position=1129037608, position_by=1129036424))"
      ]
     },
     "execution_count": 34,
     "metadata": {},
     "output_type": "execute_result"
    }
   ],
   "source": [
    "request = {\n",
    "    \"action\": mt5.TRADE_ACTION_CLOSE_BY,\n",
    "    \"position\":1129037608,\n",
    "    \"position_by\":1129036424}\n",
    "\n",
    "mt5.order_send(request)"
   ]
  },
  {
   "cell_type": "code",
   "execution_count": 29,
   "id": "cedcf32f",
   "metadata": {},
   "outputs": [
    {
     "data": {
      "text/plain": [
       "(TradeOrder(ticket=1126743201, time_setup=1676291490, time_setup_msc=1676291490064, time_done=1676291490, time_done_msc=1676291490131, time_expiration=0, type=0, type_time=0, type_filling=0, state=4, magic=56, position_id=1126743201, position_by_id=0, reason=3, volume_initial=0.01, volume_current=0.0, price_open=0.0, sl=1.0572, tp=1.08924, price_current=1.06788, price_stoplimit=0.0, symbol='EURUSD-Z', comment=' No specific com', external_id='4023167628429065176'),\n",
       " TradeOrder(ticket=1126743514, time_setup=1676291704, time_setup_msc=1676291704795, time_done=1676291704, time_done_msc=1676291704864, time_expiration=0, type=0, type_time=0, type_filling=0, state=4, magic=56, position_id=1126743514, position_by_id=0, reason=3, volume_initial=0.01, volume_current=0.0, price_open=0.0, sl=1.05778, tp=1.08983, price_current=1.06846, price_stoplimit=0.0, symbol='EURUSD-Z', comment=' No specific com', external_id='4023167628450400186'),\n",
       " TradeOrder(ticket=1126743552, time_setup=1676291728, time_setup_msc=1676291728441, time_done=1676291728, time_done_msc=1676291728490, time_expiration=0, type=0, type_time=0, type_filling=0, state=4, magic=56, position_id=1126743552, position_by_id=0, reason=3, volume_initial=0.01, volume_current=0.0, price_open=0.0, sl=1.0576, tp=1.08965, price_current=1.06828, price_stoplimit=0.0, symbol='EURUSD-Z', comment=' No specific com', external_id='4023167628452800259'),\n",
       " TradeOrder(ticket=1126759388, time_setup=1676303520, time_setup_msc=1676303520038, time_done=1676303520, time_done_msc=1676303520112, time_expiration=0, type=1, type_time=0, type_filling=0, state=4, magic=23400, position_id=1126743201, position_by_id=0, reason=3, volume_initial=0.01, volume_current=0.0, price_open=0.0, sl=0.0, tp=0.0, price_current=1.06772, price_stoplimit=0.0, symbol='EURUSD-Z', comment=' No specific com', external_id='4023167629632026686'),\n",
       " TradeOrder(ticket=1126759395, time_setup=1676303520, time_setup_msc=1676303520148, time_done=1676303520, time_done_msc=1676303520206, time_expiration=0, type=1, type_time=0, type_filling=0, state=4, magic=23400, position_id=1126759395, position_by_id=0, reason=3, volume_initial=0.01, volume_current=0.0, price_open=0.0, sl=1.12111, tp=0.96095, price_current=1.06772, price_stoplimit=0.0, symbol='EURUSD-Z', comment=' No specific com', external_id='4023167629632026688'),\n",
       " TradeOrder(ticket=1126759589, time_setup=1676303640, time_setup_msc=1676303640035, time_done=1676303640, time_done_msc=1676303640099, time_expiration=0, type=1, type_time=0, type_filling=0, state=4, magic=23400, position_id=1126743514, position_by_id=0, reason=3, volume_initial=0.01, volume_current=0.0, price_open=0.0, sl=0.0, tp=0.0, price_current=1.06771, price_stoplimit=0.0, symbol='EURUSD-Z', comment=' No specific com', external_id='4023167629644027022'),\n",
       " TradeOrder(ticket=1126759590, time_setup=1676303640, time_setup_msc=1676303640131, time_done=1676303640, time_done_msc=1676303640192, time_expiration=0, type=1, type_time=0, type_filling=0, state=4, magic=23400, position_id=1126759590, position_by_id=0, reason=3, volume_initial=0.01, volume_current=0.0, price_open=0.0, sl=1.1211, tp=0.96094, price_current=1.06771, price_stoplimit=0.0, symbol='EURUSD-Z', comment=' No specific com', external_id='4023167629644027023'),\n",
       " TradeOrder(ticket=1126759733, time_setup=1676303713, time_setup_msc=1676303713432, time_done=1676303713, time_done_msc=1676303713504, time_expiration=0, type=1, type_time=0, type_filling=0, state=4, magic=156, position_id=1126743552, position_by_id=0, reason=3, volume_initial=0.01, volume_current=0.0, price_open=0.0, sl=0.0, tp=0.0, price_current=1.06778, price_stoplimit=0.0, symbol='EURUSD-Z', comment=' No specific com', external_id='4023167629651327255'),\n",
       " TradeOrder(ticket=1126759734, time_setup=1676303713, time_setup_msc=1676303713540, time_done=1676303713, time_done_msc=1676303713625, time_expiration=0, type=1, type_time=0, type_filling=0, state=4, magic=156, position_id=1126759734, position_by_id=0, reason=3, volume_initial=0.01, volume_current=0.0, price_open=0.0, sl=1.12116, tp=0.96099, price_current=1.0677699999999999, price_stoplimit=0.0, symbol='EURUSD-Z', comment=' No specific com', external_id='4023167629651327256'),\n",
       " TradeOrder(ticket=1126759744, time_setup=1676303716, time_setup_msc=1676303716714, time_done=1676303716, time_done_msc=1676303716766, time_expiration=0, type=0, type_time=0, type_filling=0, state=4, magic=156, position_id=1126759395, position_by_id=0, reason=3, volume_initial=0.01, volume_current=0.0, price_open=0.0, sl=0.0, tp=0.0, price_current=1.06782, price_stoplimit=0.0, symbol='EURUSD-Z', comment=' No specific com', external_id='4023167629651627264'),\n",
       " TradeOrder(ticket=1126759745, time_setup=1676303716, time_setup_msc=1676303716797, time_done=1676303716, time_done_msc=1676303716859, time_expiration=0, type=0, type_time=0, type_filling=0, state=4, magic=156, position_id=1126759745, position_by_id=0, reason=3, volume_initial=0.01, volume_current=0.0, price_open=0.0, sl=1.01444, tp=1.17461, price_current=1.06783, price_stoplimit=0.0, symbol='EURUSD-Z', comment=' No specific com', external_id='4023167629651627265'),\n",
       " TradeOrder(ticket=1126759753, time_setup=1676303719, time_setup_msc=1676303719946, time_done=1676303720, time_done_msc=1676303720033, time_expiration=0, type=0, type_time=0, type_filling=0, state=4, magic=156, position_id=1126759590, position_by_id=0, reason=3, volume_initial=0.01, volume_current=0.0, price_open=0.0, sl=0.0, tp=0.0, price_current=1.06778, price_stoplimit=0.0, symbol='EURUSD-Z', comment=' No specific com', external_id='4023167629651927274'),\n",
       " TradeOrder(ticket=1126759754, time_setup=1676303720, time_setup_msc=1676303720067, time_done=1676303720, time_done_msc=1676303720141, time_expiration=0, type=0, type_time=0, type_filling=0, state=4, magic=156, position_id=1126759754, position_by_id=0, reason=3, volume_initial=0.01, volume_current=0.0, price_open=0.0, sl=1.01439, tp=1.17456, price_current=1.06778, price_stoplimit=0.0, symbol='EURUSD-Z', comment=' No specific com', external_id='4023167629652027275'),\n",
       " TradeOrder(ticket=1126759756, time_setup=1676303722, time_setup_msc=1676303722200, time_done=1676303722, time_done_msc=1676303722280, time_expiration=0, type=0, type_time=0, type_filling=0, state=4, magic=156, position_id=1126759734, position_by_id=0, reason=3, volume_initial=0.01, volume_current=0.0, price_open=0.0, sl=0.0, tp=0.0, price_current=1.06778, price_stoplimit=0.0, symbol='EURUSD-Z', comment=' No specific com', external_id='4023167629652227278'),\n",
       " TradeOrder(ticket=1126759758, time_setup=1676303722, time_setup_msc=1676303722311, time_done=1676303722, time_done_msc=1676303722391, time_expiration=0, type=0, type_time=0, type_filling=0, state=4, magic=156, position_id=1126759758, position_by_id=0, reason=3, volume_initial=0.01, volume_current=0.0, price_open=0.0, sl=1.01439, tp=1.17456, price_current=1.06778, price_stoplimit=0.0, symbol='EURUSD-Z', comment=' No specific com', external_id='4023167629652227280'),\n",
       " TradeOrder(ticket=1126759956, time_setup=1676303902, time_setup_msc=1676303902079, time_done=1676303902, time_done_msc=1676303902129, time_expiration=0, type=1, type_time=0, type_filling=0, state=4, magic=156, position_id=1126759745, position_by_id=0, reason=3, volume_initial=0.01, volume_current=0.0, price_open=0.0, sl=0.0, tp=0.0, price_current=1.06803, price_stoplimit=0.0, symbol='EURUSD-Z', comment=' No specific com', external_id='4023167629670227545'),\n",
       " TradeOrder(ticket=1126759957, time_setup=1676303902, time_setup_msc=1676303902166, time_done=1676303902, time_done_msc=1676303902241, time_expiration=0, type=1, type_time=0, type_filling=0, state=4, magic=156, position_id=1126759957, position_by_id=0, reason=3, volume_initial=0.01, volume_current=0.0, price_open=0.0, sl=1.12144, tp=0.96124, price_current=1.06804, price_stoplimit=0.0, symbol='EURUSD-Z', comment=' No specific com', external_id='4023167629670227546'),\n",
       " TradeOrder(ticket=1126759959, time_setup=1676303903, time_setup_msc=1676303903314, time_done=1676303903, time_done_msc=1676303903394, time_expiration=0, type=1, type_time=0, type_filling=0, state=4, magic=156, position_id=1126759754, position_by_id=0, reason=3, volume_initial=0.01, volume_current=0.0, price_open=0.0, sl=0.0, tp=0.0, price_current=1.06805, price_stoplimit=0.0, symbol='EURUSD-Z', comment=' No specific com', external_id='4023167629670327548'),\n",
       " TradeOrder(ticket=1126759960, time_setup=1676303903, time_setup_msc=1676303903424, time_done=1676303903, time_done_msc=1676303903503, time_expiration=0, type=1, type_time=0, type_filling=0, state=4, magic=156, position_id=1126759960, position_by_id=0, reason=3, volume_initial=0.01, volume_current=0.0, price_open=0.0, sl=1.12146, tp=0.96125, price_current=1.06806, price_stoplimit=0.0, symbol='EURUSD-Z', comment=' No specific com', external_id='4023167629670327549'),\n",
       " TradeOrder(ticket=1126759961, time_setup=1676303904, time_setup_msc=1676303904547, time_done=1676303904, time_done_msc=1676303904629, time_expiration=0, type=1, type_time=0, type_filling=0, state=4, magic=156, position_id=1126759758, position_by_id=0, reason=3, volume_initial=0.01, volume_current=0.0, price_open=0.0, sl=0.0, tp=0.0, price_current=1.06806, price_stoplimit=0.0, symbol='EURUSD-Z', comment=' No specific com', external_id='4023167629670427551'),\n",
       " TradeOrder(ticket=1126759962, time_setup=1676303904, time_setup_msc=1676303904659, time_done=1676303904, time_done_msc=1676303904723, time_expiration=0, type=1, type_time=0, type_filling=0, state=4, magic=156, position_id=1126759962, position_by_id=0, reason=3, volume_initial=0.01, volume_current=0.0, price_open=0.0, sl=1.12144, tp=0.96124, price_current=1.06804, price_stoplimit=0.0, symbol='EURUSD-Z', comment=' No specific com', external_id='4023167629670427552'),\n",
       " TradeOrder(ticket=1126759975, time_setup=1676303917, time_setup_msc=1676303917451, time_done=1676303917, time_done_msc=1676303917537, time_expiration=0, type=0, type_time=0, type_filling=0, state=4, magic=15, position_id=1126759957, position_by_id=0, reason=3, volume_initial=0.01, volume_current=0.0, price_open=0.0, sl=0.0, tp=0.0, price_current=1.06805, price_stoplimit=0.0, symbol='EURUSD-Z', comment=' No specific com', external_id='4023167629671727579'),\n",
       " TradeOrder(ticket=1126759977, time_setup=1676303917, time_setup_msc=1676303917572, time_done=1676303917, time_done_msc=1676303917646, time_expiration=0, type=0, type_time=0, type_filling=0, state=4, magic=15, position_id=1126759977, position_by_id=0, reason=3, volume_initial=0.01, volume_current=0.0, price_open=0.0, sl=1.01464, tp=1.17484, price_current=1.06804, price_stoplimit=0.0, symbol='EURUSD-Z', comment=' No specific com', external_id='4023167629671727581'),\n",
       " TradeOrder(ticket=1126759980, time_setup=1676303919, time_setup_msc=1676303919747, time_done=1676303919, time_done_msc=1676303919807, time_expiration=0, type=0, type_time=0, type_filling=0, state=4, magic=15, position_id=1126759960, position_by_id=0, reason=3, volume_initial=0.01, volume_current=0.0, price_open=0.0, sl=0.0, tp=0.0, price_current=1.06804, price_stoplimit=0.0, symbol='EURUSD-Z', comment=' No specific com', external_id='4023167629671927587'),\n",
       " TradeOrder(ticket=1126759981, time_setup=1676303919, time_setup_msc=1676303919842, time_done=1676303919, time_done_msc=1676303919896, time_expiration=0, type=0, type_time=0, type_filling=0, state=4, magic=15, position_id=1126759981, position_by_id=0, reason=3, volume_initial=0.01, volume_current=0.0, price_open=0.0, sl=1.01464, tp=1.17484, price_current=1.06804, price_stoplimit=0.0, symbol='EURUSD-Z', comment=' No specific com', external_id='4023167629671927588'),\n",
       " TradeOrder(ticket=1126759982, time_setup=1676303920, time_setup_msc=1676303920963, time_done=1676303921, time_done_msc=1676303921036, time_expiration=0, type=0, type_time=0, type_filling=0, state=4, magic=15, position_id=1126759962, position_by_id=0, reason=3, volume_initial=0.01, volume_current=0.0, price_open=0.0, sl=0.0, tp=0.0, price_current=1.06803, price_stoplimit=0.0, symbol='EURUSD-Z', comment=' No specific com', external_id='4023167629672027589'),\n",
       " TradeOrder(ticket=1126759983, time_setup=1676303921, time_setup_msc=1676303921066, time_done=1676303921, time_done_msc=1676303921133, time_expiration=0, type=0, type_time=0, type_filling=0, state=4, magic=15, position_id=1126759983, position_by_id=0, reason=3, volume_initial=0.01, volume_current=0.0, price_open=0.0, sl=1.01463, tp=1.17483, price_current=1.06803, price_stoplimit=0.0, symbol='EURUSD-Z', comment=' No specific com', external_id='4023167629672127590'),\n",
       " TradeOrder(ticket=1126759984, time_setup=1676303922, time_setup_msc=1676303922204, time_done=1676303922, time_done_msc=1676303922271, time_expiration=0, type=1, type_time=0, type_filling=0, state=4, magic=15, position_id=1126759977, position_by_id=0, reason=3, volume_initial=0.01, volume_current=0.0, price_open=0.0, sl=0.0, tp=0.0, price_current=1.06802, price_stoplimit=0.0, symbol='EURUSD-Z', comment=' No specific com', external_id='4023167629672227591'),\n",
       " TradeOrder(ticket=1126759985, time_setup=1676303922, time_setup_msc=1676303922304, time_done=1676303922, time_done_msc=1676303922365, time_expiration=0, type=1, type_time=0, type_filling=0, state=4, magic=15, position_id=1126759985, position_by_id=0, reason=3, volume_initial=0.01, volume_current=0.0, price_open=0.0, sl=1.12141, tp=0.96121, price_current=1.06801, price_stoplimit=0.0, symbol='EURUSD-Z', comment=' No specific com', external_id='4023167629672227592'),\n",
       " TradeOrder(ticket=1126760675, time_setup=1676304448, time_setup_msc=1676304448759, time_done=1676304448, time_done_msc=1676304448835, time_expiration=0, type=1, type_time=0, type_filling=0, state=4, magic=15, position_id=1126759981, position_by_id=0, reason=3, volume_initial=0.01, volume_current=0.0, price_open=0.0, sl=0.0, tp=0.0, price_current=1.06806, price_stoplimit=0.0, symbol='EURUSD-Z', comment=' No specific com', external_id='4023167629724828988'),\n",
       " TradeOrder(ticket=1126760676, time_setup=1676304448, time_setup_msc=1676304448867, time_done=1676304448, time_done_msc=1676304448928, time_expiration=0, type=1, type_time=0, type_filling=0, state=4, magic=15, position_id=1126760676, position_by_id=0, reason=3, volume_initial=0.01, volume_current=0.0, price_open=0.0, sl=1.12145, tp=0.96125, price_current=1.06805, price_stoplimit=0.0, symbol='EURUSD-Z', comment=' No specific com', external_id='4023167629724828989'),\n",
       " TradeOrder(ticket=1126760680, time_setup=1676304451, time_setup_msc=1676304451009, time_done=1676304451, time_done_msc=1676304451100, time_expiration=0, type=1, type_time=0, type_filling=0, state=4, magic=15, position_id=1126759983, position_by_id=0, reason=3, volume_initial=0.01, volume_current=0.0, price_open=0.0, sl=0.0, tp=0.0, price_current=1.06807, price_stoplimit=0.0, symbol='EURUSD-Z', comment=' No specific com', external_id='4023167629725129008'),\n",
       " TradeOrder(ticket=1126760681, time_setup=1676304451, time_setup_msc=1676304451130, time_done=1676304451, time_done_msc=1676304451194, time_expiration=0, type=1, type_time=0, type_filling=0, state=4, magic=15, position_id=1126760681, position_by_id=0, reason=3, volume_initial=0.01, volume_current=0.0, price_open=0.0, sl=1.12147, tp=0.96126, price_current=1.06807, price_stoplimit=0.0, symbol='EURUSD-Z', comment=' No specific com', external_id='4023167629725129010'),\n",
       " TradeOrder(ticket=1126760684, time_setup=1676304452, time_setup_msc=1676304452272, time_done=1676304452, time_done_msc=1676304452365, time_expiration=0, type=0, type_time=0, type_filling=0, state=4, magic=15, position_id=1126759985, position_by_id=0, reason=3, volume_initial=0.01, volume_current=0.0, price_open=0.0, sl=0.0, tp=0.0, price_current=1.06807, price_stoplimit=0.0, symbol='EURUSD-Z', comment=' No specific com', external_id='4023167629725229013'),\n",
       " TradeOrder(ticket=1126760685, time_setup=1676304452, time_setup_msc=1676304452399, time_done=1676304452, time_done_msc=1676304452477, time_expiration=0, type=0, type_time=0, type_filling=0, state=4, magic=15, position_id=1126760685, position_by_id=0, reason=3, volume_initial=0.01, volume_current=0.0, price_open=0.0, sl=1.01467, tp=1.17488, price_current=1.06807, price_stoplimit=0.0, symbol='EURUSD-Z', comment=' No specific com', external_id='4023167629725229014'),\n",
       " TradeOrder(ticket=1126760689, time_setup=1676304454, time_setup_msc=1676304454563, time_done=1676304454, time_done_msc=1676304454631, time_expiration=0, type=0, type_time=0, type_filling=0, state=4, magic=15, position_id=1126760676, position_by_id=0, reason=3, volume_initial=0.01, volume_current=0.0, price_open=0.0, sl=0.0, tp=0.0, price_current=1.06809, price_stoplimit=0.0, symbol='EURUSD-Z', comment=' No specific com', external_id='4023167629725429019'),\n",
       " TradeOrder(ticket=1126760690, time_setup=1676304454, time_setup_msc=1676304454661, time_done=1676304454, time_done_msc=1676304454725, time_expiration=0, type=0, type_time=0, type_filling=0, state=4, magic=15, position_id=1126760690, position_by_id=0, reason=3, volume_initial=0.01, volume_current=0.0, price_open=0.0, sl=1.01469, tp=1.1749, price_current=1.06809, price_stoplimit=0.0, symbol='EURUSD-Z', comment=' No specific com', external_id='4023167629725429020'),\n",
       " TradeOrder(ticket=1126760692, time_setup=1676304456, time_setup_msc=1676304456793, time_done=1676304456, time_done_msc=1676304456867, time_expiration=0, type=0, type_time=0, type_filling=0, state=4, magic=15, position_id=1126760681, position_by_id=0, reason=3, volume_initial=0.01, volume_current=0.0, price_open=0.0, sl=0.0, tp=0.0, price_current=1.06813, price_stoplimit=0.0, symbol='EURUSD-Z', comment=' No specific com', external_id='4023167629725629022'),\n",
       " TradeOrder(ticket=1126760693, time_setup=1676304456, time_setup_msc=1676304456900, time_done=1676304456, time_done_msc=1676304456975, time_expiration=0, type=0, type_time=0, type_filling=0, state=4, magic=15, position_id=1126760693, position_by_id=0, reason=3, volume_initial=0.01, volume_current=0.0, price_open=0.0, sl=1.01472, tp=1.17494, price_current=1.06813, price_stoplimit=0.0, symbol='EURUSD-Z', comment=' No specific com', external_id='4023167629725629023'),\n",
       " TradeOrder(ticket=1126760753, time_setup=1676304496, time_setup_msc=1676304496702, time_done=1676304496, time_done_msc=1676304496772, time_expiration=0, type=1, type_time=0, type_filling=0, state=4, magic=15, position_id=1126760685, position_by_id=0, reason=3, volume_initial=0.01, volume_current=0.0, price_open=0.0, sl=0.0, tp=0.0, price_current=1.06801, price_stoplimit=0.0, symbol='EURUSD-Z', comment='', external_id='4023167629729629155'),\n",
       " TradeOrder(ticket=1126760755, time_setup=1676304496, time_setup_msc=1676304496818, time_done=1676304496, time_done_msc=1676304496882, time_expiration=0, type=1, type_time=0, type_filling=0, state=4, magic=15, position_id=1126760755, position_by_id=0, reason=3, volume_initial=0.01, volume_current=0.0, price_open=0.0, sl=1.12141, tp=0.96121, price_current=1.06801, price_stoplimit=0.0, symbol='EURUSD-Z', comment='', external_id='4023167629729629157'),\n",
       " TradeOrder(ticket=1126760759, time_setup=1676304500, time_setup_msc=1676304500008, time_done=1676304500, time_done_msc=1676304500085, time_expiration=0, type=1, type_time=0, type_filling=0, state=4, magic=15, position_id=1126760690, position_by_id=0, reason=3, volume_initial=0.01, volume_current=0.0, price_open=0.0, sl=0.0, tp=0.0, price_current=1.06808, price_stoplimit=0.0, symbol='EURUSD-Z', comment='', external_id='4023167629730029163'),\n",
       " TradeOrder(ticket=1126760760, time_setup=1676304500, time_setup_msc=1676304500120, time_done=1676304500, time_done_msc=1676304500195, time_expiration=0, type=1, type_time=0, type_filling=0, state=4, magic=15, position_id=1126760760, position_by_id=0, reason=3, volume_initial=0.01, volume_current=0.0, price_open=0.0, sl=1.12148, tp=0.96127, price_current=1.06808, price_stoplimit=0.0, symbol='EURUSD-Z', comment='', external_id='4023167629730029164'),\n",
       " TradeOrder(ticket=1126760761, time_setup=1676304501, time_setup_msc=1676304501245, time_done=1676304501, time_done_msc=1676304501303, time_expiration=0, type=1, type_time=0, type_filling=0, state=4, magic=15, position_id=1126760693, position_by_id=0, reason=3, volume_initial=0.01, volume_current=0.0, price_open=0.0, sl=0.0, tp=0.0, price_current=1.06807, price_stoplimit=0.0, symbol='EURUSD-Z', comment='', external_id='4023167629730129166'),\n",
       " TradeOrder(ticket=1126760762, time_setup=1676304501, time_setup_msc=1676304501334, time_done=1676304501, time_done_msc=1676304501397, time_expiration=0, type=1, type_time=0, type_filling=0, state=4, magic=15, position_id=1126760762, position_by_id=0, reason=3, volume_initial=0.01, volume_current=0.0, price_open=0.0, sl=1.12147, tp=0.96126, price_current=1.06807, price_stoplimit=0.0, symbol='EURUSD-Z', comment='', external_id='4023167629730129167'),\n",
       " TradeOrder(ticket=1126762120, time_setup=1676305722, time_setup_msc=1676305722815, time_done=1676305722, time_done_msc=1676305722882, time_expiration=0, type=0, type_time=0, type_filling=0, state=4, magic=0, position_id=1126760755, position_by_id=0, reason=0, volume_initial=0.01, volume_current=0.0, price_open=0.0, sl=0.0, tp=0.0, price_current=1.06906, price_stoplimit=0.0, symbol='EURUSD-Z', comment='', external_id='4023167629852231760'),\n",
       " TradeOrder(ticket=1126762134, time_setup=1676305726, time_setup_msc=1676305726812, time_done=1676305726, time_done_msc=1676305726881, time_expiration=0, type=0, type_time=0, type_filling=0, state=4, magic=0, position_id=1126760760, position_by_id=0, reason=0, volume_initial=0.01, volume_current=0.0, price_open=0.0, sl=0.0, tp=0.0, price_current=1.0691, price_stoplimit=0.0, symbol='EURUSD-Z', comment='', external_id='4023167629852631785'),\n",
       " TradeOrder(ticket=1126762147, time_setup=1676305731, time_setup_msc=1676305731684, time_done=1676305731, time_done_msc=1676305731757, time_expiration=0, type=0, type_time=0, type_filling=0, state=4, magic=0, position_id=1126760762, position_by_id=0, reason=0, volume_initial=0.01, volume_current=0.0, price_open=0.0, sl=0.0, tp=0.0, price_current=1.06911, price_stoplimit=0.0, symbol='EURUSD-Z', comment='', external_id='4023167629853131800'),\n",
       " TradeOrder(ticket=1126762512, time_setup=1676305860, time_setup_msc=1676305860906, time_done=1676305860, time_done_msc=1676305860987, time_expiration=0, type=1, type_time=0, type_filling=0, state=4, magic=15, position_id=1126762512, position_by_id=0, reason=3, volume_initial=0.01, volume_current=0.0, price_open=0.0, sl=1.12244, tp=0.96209, price_current=1.0689899999999999, price_stoplimit=0.0, symbol='EURUSD-Z', comment='', external_id='4023167629866032526'),\n",
       " TradeOrder(ticket=1126762650, time_setup=1676305920, time_setup_msc=1676305920054, time_done=1676305920, time_done_msc=1676305920117, time_expiration=0, type=0, type_time=0, type_filling=0, state=4, magic=15, position_id=1126762512, position_by_id=0, reason=3, volume_initial=0.01, volume_current=0.0, price_open=0.0, sl=0.0, tp=0.0, price_current=1.06898, price_stoplimit=0.0, symbol='EURUSD-Z', comment='', external_id='4023167629872032838'),\n",
       " TradeOrder(ticket=1126762899, time_setup=1676305980, time_setup_msc=1676305980666, time_done=1676305980, time_done_msc=1676305980741, time_expiration=0, type=1, type_time=0, type_filling=0, state=4, magic=15, position_id=1126762899, position_by_id=0, reason=3, volume_initial=0.01, volume_current=0.0, price_open=0.0, sl=1.12259, tp=0.96222, price_current=1.06913, price_stoplimit=0.0, symbol='EURUSD-Z', comment='', external_id='4023167629878033260'),\n",
       " TradeOrder(ticket=1126763131, time_setup=1676306040, time_setup_msc=1676306040826, time_done=1676306040, time_done_msc=1676306040895, time_expiration=0, type=0, type_time=0, type_filling=0, state=4, magic=15, position_id=1126762899, position_by_id=0, reason=3, volume_initial=0.01, volume_current=0.0, price_open=0.0, sl=0.0, tp=0.0, price_current=1.06895, price_stoplimit=0.0, symbol='EURUSD-Z', comment='', external_id='4023167629884033811'),\n",
       " TradeOrder(ticket=1126766588, time_setup=1676307240, time_setup_msc=1676307240058, time_done=1676307240, time_done_msc=1676307240147, time_expiration=0, type=1, type_time=0, type_filling=0, state=4, magic=15, position_id=1126766588, position_by_id=0, reason=3, volume_initial=0.01, volume_current=0.0, price_open=0.0, sl=1.12313, tp=0.96269, price_current=1.06965, price_stoplimit=0.0, symbol='EURUSD-Z', comment='', external_id='4023167630004042393'),\n",
       " TradeOrder(ticket=1126767556, time_setup=1676307540, time_setup_msc=1676307540048, time_done=1676307540, time_done_msc=1676307540119, time_expiration=0, type=0, type_time=0, type_filling=0, state=4, magic=15, position_id=1126766588, position_by_id=0, reason=3, volume_initial=0.01, volume_current=0.0, price_open=0.0, sl=0.0, tp=0.0, price_current=1.07068, price_stoplimit=0.0, symbol='EURUSD-Z', comment='', external_id='4023167630034044570'),\n",
       " TradeOrder(ticket=1126768208, time_setup=1676307720, time_setup_msc=1676307720037, time_done=1676307720, time_done_msc=1676307720117, time_expiration=0, type=1, type_time=0, type_filling=0, state=4, magic=15, position_id=1126768208, position_by_id=0, reason=3, volume_initial=0.01, volume_current=0.0, price_open=0.0, sl=1.12399, tp=0.96342, price_current=1.07047, price_stoplimit=0.0, symbol='EURUSD-Z', comment='', external_id='4023167630052046310'),\n",
       " TradeOrder(ticket=1126768383, time_setup=1676307780, time_setup_msc=1676307780047, time_done=1676307780, time_done_msc=1676307780132, time_expiration=0, type=0, type_time=0, type_filling=0, state=4, magic=15, position_id=1126768208, position_by_id=0, reason=3, volume_initial=0.01, volume_current=0.0, price_open=0.0, sl=0.0, tp=0.0, price_current=1.07062, price_stoplimit=0.0, symbol='EURUSD-Z', comment='', external_id='4023167630058046615'),\n",
       " TradeOrder(ticket=1126768680, time_setup=1676307840, time_setup_msc=1676307840037, time_done=1676307840, time_done_msc=1676307840105, time_expiration=0, type=1, type_time=0, type_filling=0, state=4, magic=15, position_id=1126768680, position_by_id=0, reason=3, volume_initial=0.01, volume_current=0.0, price_open=0.0, sl=1.124, tp=0.96343, price_current=1.07047, price_stoplimit=0.0, symbol='EURUSD-Z', comment='', external_id='4023167630064047055'),\n",
       " TradeOrder(ticket=1126769468, time_setup=1676308140, time_setup_msc=1676308140043, time_done=1676308140, time_done_msc=1676308140111, time_expiration=0, type=0, type_time=0, type_filling=0, state=4, magic=15, position_id=1126768680, position_by_id=0, reason=3, volume_initial=0.01, volume_current=0.0, price_open=0.0, sl=0.0, tp=0.0, price_current=1.0707200000000001, price_stoplimit=0.0, symbol='EURUSD-Z', comment='', external_id='4023167630094048621'),\n",
       " TradeOrder(ticket=1126769767, time_setup=1676308260, time_setup_msc=1676308260036, time_done=1676308260, time_done_msc=1676308260100, time_expiration=0, type=1, type_time=0, type_filling=0, state=4, magic=15, position_id=1126769767, position_by_id=0, reason=3, volume_initial=0.01, volume_current=0.0, price_open=0.0, sl=1.12422, tp=0.96362, price_current=1.07069, price_stoplimit=0.0, symbol='EURUSD-Z', comment='', external_id='4023167630106049214'),\n",
       " TradeOrder(ticket=1126769958, time_setup=1676308380, time_setup_msc=1676308380048, time_done=1676308380, time_done_msc=1676308380128, time_expiration=0, type=0, type_time=0, type_filling=0, state=4, magic=15, position_id=1126769767, position_by_id=0, reason=3, volume_initial=0.01, volume_current=0.0, price_open=0.0, sl=0.0, tp=0.0, price_current=1.07058, price_stoplimit=0.0, symbol='EURUSD-Z', comment='', external_id='4023167630118049612'),\n",
       " TradeOrder(ticket=1126770061, time_setup=1676308440, time_setup_msc=1676308440043, time_done=1676308440, time_done_msc=1676308440100, time_expiration=0, type=0, type_time=0, type_filling=0, state=4, magic=15, position_id=1126770061, position_by_id=0, reason=3, volume_initial=0.01, volume_current=0.0, price_open=0.0, sl=1.01699, tp=1.17757, price_current=1.07052, price_stoplimit=0.0, symbol='EURUSD-Z', comment='', external_id='4023167630124049783'),\n",
       " TradeOrder(ticket=1126770144, time_setup=1676308500, time_setup_msc=1676308500048, time_done=1676308500, time_done_msc=1676308500137, time_expiration=0, type=1, type_time=0, type_filling=0, state=4, magic=15, position_id=1126770061, position_by_id=0, reason=3, volume_initial=0.01, volume_current=0.0, price_open=0.0, sl=0.0, tp=0.0, price_current=1.07047, price_stoplimit=0.0, symbol='EURUSD-Z', comment='', external_id='4023167630130049968'),\n",
       " TradeOrder(ticket=1126770458, time_setup=1676308680, time_setup_msc=1676308680253, time_done=1676308680, time_done_msc=1676308680310, time_expiration=0, type=0, type_time=0, type_filling=0, state=4, magic=15, position_id=1126770458, position_by_id=0, reason=3, volume_initial=0.01, volume_current=0.0, price_open=0.0, sl=1.0171, tp=1.17769, price_current=1.07063, price_stoplimit=0.0, symbol='EURUSD-Z', comment='', external_id='4023167630148050625'),\n",
       " TradeOrder(ticket=1126770529, time_setup=1676308740, time_setup_msc=1676308740049, time_done=1676308740, time_done_msc=1676308740124, time_expiration=0, type=1, type_time=0, type_filling=0, state=4, magic=15, position_id=1126770458, position_by_id=0, reason=3, volume_initial=0.01, volume_current=0.0, price_open=0.0, sl=0.0, tp=0.0, price_current=1.07054, price_stoplimit=0.0, symbol='EURUSD-Z', comment='', external_id='4023167630154050755'),\n",
       " TradeOrder(ticket=1126770592, time_setup=1676308800, time_setup_msc=1676308800063, time_done=1676308800, time_done_msc=1676308800145, time_expiration=0, type=0, type_time=0, type_filling=0, state=4, magic=15, position_id=1126770592, position_by_id=0, reason=3, volume_initial=0.01, volume_current=0.0, price_open=0.0, sl=1.01694, tp=1.17751, price_current=1.07049, price_stoplimit=0.0, symbol='EURUSD-Z', comment='', external_id='4023167630160050855'),\n",
       " TradeOrder(ticket=1126788692, time_setup=1676320580, time_setup_msc=1676320580324, time_done=1676320580, time_done_msc=1676320580408, time_expiration=0, type=1, type_time=0, type_filling=0, state=4, magic=0, position_id=1126770592, position_by_id=0, reason=0, volume_initial=0.01, volume_current=0.0, price_open=0.0, sl=0.0, tp=0.0, price_current=1.07241, price_stoplimit=0.0, symbol='EURUSD-Z', comment='', external_id='4023167631338021289'),\n",
       " TradeOrder(ticket=1126824487, time_setup=1676368500, time_setup_msc=1676368500732, time_done=1676368500, time_done_msc=1676368500806, time_expiration=0, type=0, type_time=0, type_filling=0, state=4, magic=15, position_id=1126824487, position_by_id=0, reason=3, volume_initial=0.01, volume_current=0.0, price_open=0.0, sl=1.06767, tp=1.07841, price_current=1.07304, price_stoplimit=0.0, symbol='EURUSD-Z', comment='', external_id='4023167636130015491'),\n",
       " TradeOrder(ticket=1126824559, time_setup=1676368560, time_setup_msc=1676368560285, time_done=1676368560, time_done_msc=1676368560351, time_expiration=0, type=1, type_time=0, type_filling=0, state=4, magic=15, position_id=1126824487, position_by_id=0, reason=3, volume_initial=0.01, volume_current=0.0, price_open=0.0, sl=0.0, tp=0.0, price_current=1.07289, price_stoplimit=0.0, symbol='EURUSD-Z', comment='', external_id='4023167636136015580'),\n",
       " TradeOrder(ticket=1126824674, time_setup=1676368740, time_setup_msc=1676368740065, time_done=1676368740, time_done_msc=1676368740131, time_expiration=0, type=0, type_time=0, type_filling=0, state=4, magic=15, position_id=1126824674, position_by_id=0, reason=3, volume_initial=0.01, volume_current=0.0, price_open=0.0, sl=1.06773, tp=1.07847, price_current=1.0731, price_stoplimit=0.0, symbol='EURUSD-Z', comment='', external_id='4023167636154015792'),\n",
       " TradeOrder(ticket=1126824728, time_setup=1676368800, time_setup_msc=1676368800078, time_done=1676368800, time_done_msc=1676368800158, time_expiration=0, type=1, type_time=0, type_filling=0, state=4, magic=15, position_id=1126824674, position_by_id=0, reason=3, volume_initial=0.01, volume_current=0.0, price_open=0.0, sl=0.0, tp=0.0, price_current=1.07319, price_stoplimit=0.0, symbol='EURUSD-Z', comment='', external_id='4023167636160015940'),\n",
       " TradeOrder(ticket=1126825081, time_setup=1676368860, time_setup_msc=1676368860073, time_done=1676368860, time_done_msc=1676368860156, time_expiration=0, type=0, type_time=0, type_filling=0, state=4, magic=15, position_id=1126825081, position_by_id=0, reason=3, volume_initial=0.01, volume_current=0.0, price_open=0.0, sl=1.06783, tp=1.07857, price_current=1.0732, price_stoplimit=0.0, symbol='EURUSD-Z', comment='', external_id='4023167636166016957'),\n",
       " TradeOrder(ticket=1126825458, time_setup=1676369040, time_setup_msc=1676369040067, time_done=1676369040, time_done_msc=1676369040145, time_expiration=0, type=1, type_time=0, type_filling=0, state=4, magic=15, position_id=1126825081, position_by_id=0, reason=3, volume_initial=0.01, volume_current=0.0, price_open=0.0, sl=0.0, tp=0.0, price_current=1.0729899999999999, price_stoplimit=0.0, symbol='EURUSD-Z', comment='', external_id='4023167636184017729'),\n",
       " TradeOrder(ticket=1126828606, time_setup=1676371140, time_setup_msc=1676371140051, time_done=1676371140, time_done_msc=1676371140113, time_expiration=0, type=0, type_time=0, type_filling=0, state=4, magic=15, position_id=1126828606, position_by_id=0, reason=3, volume_initial=0.01, volume_current=0.0, price_open=0.0, sl=1.06781, tp=1.07855, price_current=1.07318, price_stoplimit=0.0, symbol='EURUSD-Z', comment='', external_id='4023167636394024164'),\n",
       " TradeOrder(ticket=1126829056, time_setup=1676371387, time_setup_msc=1676371387218, time_done=1676371387, time_done_msc=1676371387279, time_expiration=0, type=0, type_time=0, type_filling=0, state=4, magic=0, position_id=1126829056, position_by_id=0, reason=0, volume_initial=1.0, volume_current=0.0, price_open=0.0, sl=0.0, tp=0.0, price_current=0.91812, price_stoplimit=0.0, symbol='USDCHF-Z', comment='', external_id='4023167636418724757'),\n",
       " TradeOrder(ticket=1126843531, time_setup=1676379267, time_setup_msc=1676379267551, time_done=1676379267, time_done_msc=1676379267636, time_expiration=0, type=0, type_time=0, type_filling=0, state=4, magic=0, position_id=1126843531, position_by_id=0, reason=0, volume_initial=0.99, volume_current=0.0, price_open=0.0, sl=0.0, tp=0.0, price_current=1.07529, price_stoplimit=0.0, symbol='EURUSD-Z', comment='', external_id='4023167637206749235'),\n",
       " TradeOrder(ticket=1126843553, time_setup=1676379298, time_setup_msc=1676379298104, time_done=1676379298, time_done_msc=1676379298183, time_expiration=0, type=1, type_time=0, type_filling=0, state=4, magic=0, position_id=1126829056, position_by_id=0, reason=0, volume_initial=1.0, volume_current=0.0, price_open=0.0, sl=0.0, tp=0.0, price_current=0.91892, price_stoplimit=0.0, symbol='USDCHF-Z', comment='', external_id='4023167637209849259'),\n",
       " TradeOrder(ticket=1126843569, time_setup=1676379304, time_setup_msc=1676379304718, time_done=1676379304, time_done_msc=1676379304792, time_expiration=0, type=1, type_time=0, type_filling=0, state=4, magic=0, position_id=1126843531, position_by_id=0, reason=0, volume_initial=0.99, volume_current=0.0, price_open=0.0, sl=0.0, tp=0.0, price_current=1.07528, price_stoplimit=0.0, symbol='EURUSD-Z', comment='', external_id='4023167637210449289'),\n",
       " TradeOrder(ticket=1126843589, time_setup=1676379311, time_setup_msc=1676379311855, time_done=1676379311, time_done_msc=1676379311917, time_expiration=0, type=1, type_time=0, type_filling=0, state=4, magic=0, position_id=1126828606, position_by_id=0, reason=0, volume_initial=0.01, volume_current=0.0, price_open=0.0, sl=0.0, tp=0.0, price_current=1.07529, price_stoplimit=0.0, symbol='EURUSD-Z', comment='', external_id='4023167637211149297'),\n",
       " TradeOrder(ticket=1126844095, time_setup=1676379660, time_setup_msc=1676379660559, time_done=1676379660, time_done_msc=1676379660648, time_expiration=0, type=0, type_time=0, type_filling=0, state=4, magic=15, position_id=1126844095, position_by_id=0, reason=3, volume_initial=0.01, volume_current=0.0, price_open=0.0, sl=1.07, tp=1.08076, price_current=1.07538, price_stoplimit=0.0, symbol='EURUSD-Z', comment='', external_id='4023167637246050103'),\n",
       " TradeOrder(ticket=1127033361, time_setup=1676472998, time_setup_msc=1676472998880, time_done=1676472998, time_done_msc=1676472998893, time_expiration=0, type=1, type_time=0, type_filling=1, state=4, magic=15, position_id=1126844095, position_by_id=0, reason=4, volume_initial=0.01, volume_current=0.0, price_open=1.07, sl=0.0, tp=0.0, price_current=1.07, price_stoplimit=0.0, symbol='EURUSD-Z', comment='[sl 1.07000]', external_id='4023167646579801423'),\n",
       " TradeOrder(ticket=1127222962, time_setup=1676541780, time_setup_msc=1676541780840, time_done=1676541780, time_done_msc=1676541780907, time_expiration=0, type=0, type_time=0, type_filling=0, state=4, magic=16, position_id=1127222962, position_by_id=0, reason=3, volume_initial=0.01, volume_current=0.0, price_open=0.0, sl=1.06252, tp=1.0743, price_current=1.07055, price_stoplimit=0.0, symbol='EURUSD-Z', comment='', external_id='4023167653458030421'),\n",
       " TradeOrder(ticket=1127223105, time_setup=1676541840, time_setup_msc=1676541840095, time_done=1676541840, time_done_msc=1676541840174, time_expiration=0, type=1, type_time=0, type_filling=0, state=4, magic=16, position_id=1127222962, position_by_id=0, reason=3, volume_initial=0.01, volume_current=0.0, price_open=0.0, sl=0.0, tp=0.0, price_current=1.07055, price_stoplimit=0.0, symbol='EURUSD-Z', comment='', external_id='4023167653464030671'),\n",
       " TradeOrder(ticket=1127223637, time_setup=1676542080, time_setup_msc=1676542080085, time_done=1676542080, time_done_msc=1676542080164, time_expiration=0, type=0, type_time=0, type_filling=0, state=4, magic=16, position_id=1127223637, position_by_id=0, reason=3, volume_initial=0.01, volume_current=0.0, price_open=0.0, sl=1.06301, tp=1.07479, price_current=1.07104, price_stoplimit=0.0, symbol='EURUSD-Z', comment='', external_id='4023167653488031793'),\n",
       " TradeOrder(ticket=1127228703, time_setup=1676545320, time_setup_msc=1676545320079, time_done=1676545320, time_done_msc=1676545320151, time_expiration=0, type=1, type_time=0, type_filling=0, state=4, magic=15, position_id=1127228703, position_by_id=0, reason=3, volume_initial=0.02, volume_current=0.0, price_open=0.0, sl=1.07605, tp=1.06535, price_current=1.0707, price_stoplimit=0.0, symbol='EURUSD-Z', comment='', external_id='4023167653812043099'),\n",
       " TradeOrder(ticket=1127244020, time_setup=1676559000, time_setup_msc=1676559000771, time_done=1676559000, time_done_msc=1676559000834, time_expiration=0, type=1, type_time=0, type_filling=0, state=4, magic=0, position_id=1127223637, position_by_id=0, reason=0, volume_initial=0.01, volume_current=0.0, price_open=0.0, sl=0.0, tp=0.0, price_current=1.06981, price_stoplimit=0.0, symbol='EURUSD-Z', comment='', external_id='4023167655180007487'),\n",
       " TradeOrder(ticket=1127244022, time_setup=1676559004, time_setup_msc=1676559004310, time_done=1676559004, time_done_msc=1676559004381, time_expiration=0, type=0, type_time=0, type_filling=0, state=4, magic=0, position_id=1127228703, position_by_id=0, reason=0, volume_initial=0.02, volume_current=0.0, price_open=0.0, sl=0.0, tp=0.0, price_current=1.0698, price_stoplimit=0.0, symbol='EURUSD-Z', comment='', external_id='4023167655180407493'),\n",
       " TradeOrder(ticket=1127245368, time_setup=1676560080, time_setup_msc=1676560080185, time_done=1676560080, time_done_msc=1676560080275, time_expiration=0, type=0, type_time=0, type_filling=0, state=4, magic=16, position_id=1127245368, position_by_id=0, reason=3, volume_initial=0.01, volume_current=0.0, price_open=0.0, sl=1.06163, tp=1.07339, price_current=1.06966, price_stoplimit=0.0, symbol='EURUSD-Z', comment='', external_id='4023167655288010042'),\n",
       " TradeOrder(ticket=1127419253, time_setup=1676643311, time_setup_msc=1676643311334, time_done=1676643311, time_done_msc=1676643311351, time_expiration=0, type=1, type_time=0, type_filling=1, state=4, magic=16, position_id=1127245368, position_by_id=0, reason=4, volume_initial=0.01, volume_current=0.0, price_open=1.06163, sl=0.0, tp=0.0, price_current=1.06163, price_stoplimit=0.0, symbol='EURUSD-Z', comment='[sl 1.06163]', external_id='4023167663611113876'),\n",
       " TradeOrder(ticket=1127442913, time_setup=1676651340, time_setup_msc=1676651340316, time_done=1676651340, time_done_msc=1676651340396, time_expiration=0, type=0, type_time=0, type_filling=0, state=4, magic=16, position_id=1127442913, position_by_id=0, reason=3, volume_initial=0.01, volume_current=0.0, price_open=0.0, sl=1.05674, tp=1.06846, price_current=1.06473, price_stoplimit=0.0, symbol='EURUSD-Z', comment='', external_id='4023167664414039396'),\n",
       " TradeOrder(ticket=1127480878, time_setup=1676660517, time_setup_msc=1676660517290, time_done=1676660517, time_done_msc=1676660517337, time_expiration=0, type=1, type_time=0, type_filling=1, state=4, magic=16, position_id=1127442913, position_by_id=0, reason=5, volume_initial=0.01, volume_current=0.0, price_open=1.06846, sl=0.0, tp=0.0, price_current=1.06846, price_stoplimit=0.0, symbol='EURUSD-Z', comment='[tp 1.06846]', external_id='4023167665331724101'),\n",
       " TradeOrder(ticket=1127672823, time_setup=1677000303, time_setup_msc=1677000303093, time_done=1677000303, time_done_msc=1677000303172, time_expiration=0, type=0, type_time=0, type_filling=0, state=4, magic=16, position_id=1127672823, position_by_id=0, reason=3, volume_initial=0.01, volume_current=0.0, price_open=0.0, sl=1.05878, tp=1.07051, price_current=1.06678, price_stoplimit=0.0, symbol='EURUSD-Z', comment='', external_id='4023167699310327906'),\n",
       " TradeOrder(ticket=1127673400, time_setup=1677000575, time_setup_msc=1677000575938, time_done=1677000576, time_done_msc=1677000576004, time_expiration=0, type=1, type_time=0, type_filling=0, state=4, magic=0, position_id=1127672823, position_by_id=0, reason=0, volume_initial=0.01, volume_current=0.0, price_open=0.0, sl=0.0, tp=0.0, price_current=1.06738, price_stoplimit=0.0, symbol='EURUSD-Z', comment='', external_id='4023167699337529458'),\n",
       " TradeOrder(ticket=1127673484, time_setup=1677000600, time_setup_msc=1677000600137, time_done=1677000600, time_done_msc=1677000600195, time_expiration=0, type=0, type_time=0, type_filling=0, state=4, magic=16, position_id=1127673484, position_by_id=0, reason=3, volume_initial=0.01, volume_current=0.0, price_open=0.0, sl=1.05942, tp=1.07117, price_current=1.06743, price_stoplimit=0.0, symbol='EURUSD-Z', comment='', external_id='4023167699340029588'),\n",
       " TradeOrder(ticket=1127673991, time_setup=1677000704, time_setup_msc=1677000704474, time_done=1677000704, time_done_msc=1677000704537, time_expiration=0, type=1, type_time=0, type_filling=0, state=4, magic=0, position_id=1127673484, position_by_id=0, reason=0, volume_initial=0.01, volume_current=0.0, price_open=0.0, sl=0.0, tp=0.0, price_current=1.06757, price_stoplimit=0.0, symbol='EURUSD-Z', comment='', external_id='4023167699350430787'),\n",
       " TradeOrder(ticket=1127674020, time_setup=1677000720, time_setup_msc=1677000720104, time_done=1677000720, time_done_msc=1677000720178, time_expiration=0, type=1, type_time=0, type_filling=0, state=4, magic=15, position_id=1127674020, position_by_id=0, reason=3, volume_initial=0.1, volume_current=0.0, price_open=0.0, sl=1.07288, tp=1.0622, price_current=1.06753, price_stoplimit=0.0, symbol='EURUSD-Z', comment='', external_id='4023167699352030861'),\n",
       " TradeOrder(ticket=1127674022, time_setup=1677000720, time_setup_msc=1677000720223, time_done=1677000720, time_done_msc=1677000720273, time_expiration=0, type=0, type_time=0, type_filling=0, state=4, magic=16, position_id=1127674020, position_by_id=0, reason=3, volume_initial=0.01, volume_current=0.0, price_open=0.0, sl=0.0, tp=0.0, price_current=1.06755, price_stoplimit=0.0, symbol='EURUSD-Z', comment='', external_id='4023167699352030865'),\n",
       " TradeOrder(ticket=1127674023, time_setup=1677000720, time_setup_msc=1677000720373, time_done=1677000720, time_done_msc=1677000720460, time_expiration=0, type=0, type_time=0, type_filling=0, state=4, magic=16, position_id=1127674023, position_by_id=0, reason=3, volume_initial=0.01, volume_current=0.0, price_open=0.0, sl=1.05953, tp=1.07128, price_current=1.06754, price_stoplimit=0.0, symbol='EURUSD-Z', comment='', external_id='4023167699352030873'),\n",
       " TradeOrder(ticket=1127674024, time_setup=1677000720, time_setup_msc=1677000720889, time_done=1677000720, time_done_msc=1677000720960, time_expiration=0, type=0, type_time=0, type_filling=0, state=4, magic=16, position_id=1127674020, position_by_id=0, reason=3, volume_initial=0.02, volume_current=0.0, price_open=0.0, sl=0.0, tp=0.0, price_current=1.06755, price_stoplimit=0.0, symbol='EURUSD-Z', comment='', external_id='4023167699352030878'),\n",
       " TradeOrder(ticket=1127674056, time_setup=1677000751, time_setup_msc=1677000751822, time_done=1677000751, time_done_msc=1677000751882, time_expiration=0, type=0, type_time=0, type_filling=0, state=4, magic=0, position_id=1127674020, position_by_id=0, reason=0, volume_initial=0.07, volume_current=0.0, price_open=0.0, sl=0.0, tp=0.0, price_current=1.06763, price_stoplimit=0.0, symbol='EURUSD-Z', comment='', external_id='4023167699355130975'),\n",
       " TradeOrder(ticket=1127674060, time_setup=1677000756, time_setup_msc=1677000756836, time_done=1677000756, time_done_msc=1677000756915, time_expiration=0, type=1, type_time=0, type_filling=0, state=4, magic=0, position_id=1127674023, position_by_id=0, reason=0, volume_initial=0.01, volume_current=0.0, price_open=0.0, sl=0.0, tp=0.0, price_current=1.06759, price_stoplimit=0.0, symbol='EURUSD-Z', comment='', external_id='4023167699355630989'),\n",
       " TradeOrder(ticket=1127674082, time_setup=1677000780, time_setup_msc=1677000780131, time_done=1677000780, time_done_msc=1677000780197, time_expiration=0, type=1, type_time=0, type_filling=0, state=4, magic=15, position_id=1127674082, position_by_id=0, reason=3, volume_initial=0.1, volume_current=0.0, price_open=0.0, sl=1.07293, tp=1.06225, price_current=1.06759, price_stoplimit=0.0, symbol='EURUSD-Z', comment='', external_id='4023167699358031050'),\n",
       " TradeOrder(ticket=1127674083, time_setup=1677000780, time_setup_msc=1677000780248, time_done=1677000780, time_done_msc=1677000780322, time_expiration=0, type=0, type_time=0, type_filling=0, state=4, magic=16, position_id=1127674082, position_by_id=0, reason=3, volume_initial=0.02, volume_current=0.0, price_open=0.0, sl=0.0, tp=0.0, price_current=1.06758, price_stoplimit=0.0, symbol='EURUSD-Z', comment='', external_id='4023167699358031051'),\n",
       " TradeOrder(ticket=1127674084, time_setup=1677000780, time_setup_msc=1677000780354, time_done=1677000780, time_done_msc=1677000780415, time_expiration=0, type=0, type_time=0, type_filling=0, state=4, magic=16, position_id=1127674082, position_by_id=0, reason=3, volume_initial=0.01, volume_current=0.0, price_open=0.0, sl=0.0, tp=0.0, price_current=1.06758, price_stoplimit=0.0, symbol='EURUSD-Z', comment='', external_id='4023167699358031052'),\n",
       " TradeOrder(ticket=1127674085, time_setup=1677000780, time_setup_msc=1677000780447, time_done=1677000780, time_done_msc=1677000780527, time_expiration=0, type=0, type_time=0, type_filling=0, state=4, magic=16, position_id=1127674085, position_by_id=0, reason=3, volume_initial=0.01, volume_current=0.0, price_open=0.0, sl=1.05958, tp=1.0713300000000001, price_current=1.06759, price_stoplimit=0.0, symbol='EURUSD-Z', comment='', external_id='4023167699358031053'),\n",
       " TradeOrder(ticket=1127674298, time_setup=1677000840, time_setup_msc=1677000840144, time_done=1677000840, time_done_msc=1677000840231, time_expiration=0, type=0, type_time=0, type_filling=0, state=4, magic=16, position_id=1127674082, position_by_id=0, reason=3, volume_initial=0.02, volume_current=0.0, price_open=0.0, sl=0.0, tp=0.0, price_current=1.06819, price_stoplimit=0.0, symbol='EURUSD-Z', comment='', external_id='4023167699364031558'),\n",
       " TradeOrder(ticket=1127674350, time_setup=1677000850, time_setup_msc=1677000850964, time_done=1677000851, time_done_msc=1677000851040, time_expiration=0, type=0, type_time=0, type_filling=0, state=4, magic=0, position_id=1127674082, position_by_id=0, reason=0, volume_initial=0.05, volume_current=0.0, price_open=0.0, sl=0.0, tp=0.0, price_current=1.06824, price_stoplimit=0.0, symbol='EURUSD-Z', comment='', external_id='4023167699365031688'),\n",
       " TradeOrder(ticket=1127674373, time_setup=1677000858, time_setup_msc=1677000858298, time_done=1677000858, time_done_msc=1677000858352, time_expiration=0, type=1, type_time=0, type_filling=0, state=4, magic=0, position_id=1127674085, position_by_id=0, reason=0, volume_initial=0.01, volume_current=0.0, price_open=0.0, sl=0.0, tp=0.0, price_current=1.06828, price_stoplimit=0.0, symbol='EURUSD-Z', comment='', external_id='4023167699365831735'),\n",
       " TradeOrder(ticket=1127674478, time_setup=1677000900, time_setup_msc=1677000900087, time_done=1677000900, time_done_msc=1677000900152, time_expiration=0, type=1, type_time=0, type_filling=0, state=4, magic=15, position_id=1127674478, position_by_id=0, reason=3, volume_initial=0.1, volume_current=0.0, price_open=0.0, sl=1.07361, tp=1.06293, price_current=1.06827, price_stoplimit=0.0, symbol='EURUSD-Z', comment='', external_id='4023167699370032026'),\n",
       " TradeOrder(ticket=1127674484, time_setup=1677000900, time_setup_msc=1677000900212, time_done=1677000900, time_done_msc=1677000900291, time_expiration=0, type=0, type_time=0, type_filling=0, state=4, magic=16, position_id=1127674478, position_by_id=0, reason=3, volume_initial=0.02, volume_current=0.0, price_open=0.0, sl=0.0, tp=0.0, price_current=1.06828, price_stoplimit=0.0, symbol='EURUSD-Z', comment='', external_id='4023167699370032039'),\n",
       " TradeOrder(ticket=1127674490, time_setup=1677000900, time_setup_msc=1677000900343, time_done=1677000900, time_done_msc=1677000900433, time_expiration=0, type=0, type_time=0, type_filling=0, state=4, magic=16, position_id=1127674478, position_by_id=0, reason=3, volume_initial=0.01, volume_current=0.0, price_open=0.0, sl=0.0, tp=0.0, price_current=1.06828, price_stoplimit=0.0, symbol='EURUSD-Z', comment='', external_id='4023167699370032048'),\n",
       " TradeOrder(ticket=1127674494, time_setup=1677000900, time_setup_msc=1677000900460, time_done=1677000900, time_done_msc=1677000900540, time_expiration=0, type=0, type_time=0, type_filling=0, state=4, magic=16, position_id=1127674478, position_by_id=0, reason=3, volume_initial=0.01, volume_current=0.0, price_open=0.0, sl=0.0, tp=0.0, price_current=1.06828, price_stoplimit=0.0, symbol='EURUSD-Z', comment='', external_id='4023167699370032053'),\n",
       " TradeOrder(ticket=1127674549, time_setup=1677000912, time_setup_msc=1677000912329, time_done=1677000912, time_done_msc=1677000912398, time_expiration=0, type=0, type_time=0, type_filling=0, state=4, magic=0, position_id=1127674478, position_by_id=0, reason=0, volume_initial=0.06, volume_current=0.0, price_open=0.0, sl=0.0, tp=0.0, price_current=1.06845, price_stoplimit=0.0, symbol='EURUSD-Z', comment='', external_id='4023167699371232198'),\n",
       " TradeOrder(ticket=1127674935, time_setup=1677001020, time_setup_msc=1677001020143, time_done=1677001020, time_done_msc=1677001020238, time_expiration=0, type=0, type_time=0, type_filling=0, state=4, magic=16, position_id=1127674935, position_by_id=0, reason=3, volume_initial=0.01, volume_current=0.0, price_open=0.0, sl=1.06087, tp=1.07263, price_current=1.0688900000000001, price_stoplimit=0.0, symbol='EURUSD-Z', comment='', external_id='4023167699382033214'),\n",
       " TradeOrder(ticket=1127675078, time_setup=1677001084, time_setup_msc=1677001084469, time_done=1677001084, time_done_msc=1677001084536, time_expiration=0, type=1, type_time=0, type_filling=0, state=4, magic=0, position_id=1127674935, position_by_id=0, reason=0, volume_initial=0.01, volume_current=0.0, price_open=0.0, sl=0.0, tp=0.0, price_current=1.06867, price_stoplimit=0.0, symbol='EURUSD-Z', comment='', external_id='4023167699388433673'),\n",
       " TradeOrder(ticket=1127675202, time_setup=1677001140, time_setup_msc=1677001140084, time_done=1677001140, time_done_msc=1677001140177, time_expiration=0, type=1, type_time=0, type_filling=0, state=4, magic=15, position_id=1127675202, position_by_id=0, reason=3, volume_initial=0.1, volume_current=0.0, price_open=0.0, sl=1.07422, tp=1.06354, price_current=1.06888, price_stoplimit=0.0, symbol='EURUSD-Z', comment='', external_id='4023167699394033944'),\n",
       " TradeOrder(ticket=1127675206, time_setup=1677001140, time_setup_msc=1677001140305, time_done=1677001140, time_done_msc=1677001140365, time_expiration=0, type=0, type_time=0, type_filling=0, state=4, magic=16, position_id=1127675202, position_by_id=0, reason=3, volume_initial=0.01, volume_current=0.0, price_open=0.0, sl=0.0, tp=0.0, price_current=1.0689, price_stoplimit=0.0, symbol='EURUSD-Z', comment='', external_id='4023167699394033952'),\n",
       " TradeOrder(ticket=1127675208, time_setup=1677001140, time_setup_msc=1677001140398, time_done=1677001140, time_done_msc=1677001140458, time_expiration=0, type=0, type_time=0, type_filling=0, state=4, magic=16, position_id=1127675202, position_by_id=0, reason=3, volume_initial=0.01, volume_current=0.0, price_open=0.0, sl=0.0, tp=0.0, price_current=1.0688900000000001, price_stoplimit=0.0, symbol='EURUSD-Z', comment='', external_id='4023167699394033956'),\n",
       " TradeOrder(ticket=1127675210, time_setup=1677001140, time_setup_msc=1677001140488, time_done=1677001140, time_done_msc=1677001140552, time_expiration=0, type=0, type_time=0, type_filling=0, state=4, magic=16, position_id=1127675202, position_by_id=0, reason=3, volume_initial=0.02, volume_current=0.0, price_open=0.0, sl=0.0, tp=0.0, price_current=1.0688900000000001, price_stoplimit=0.0, symbol='EURUSD-Z', comment='', external_id='4023167699394033959'),\n",
       " TradeOrder(ticket=1127675211, time_setup=1677001140, time_setup_msc=1677001140579, time_done=1677001140, time_done_msc=1677001140662, time_expiration=0, type=0, type_time=0, type_filling=0, state=4, magic=16, position_id=1127675211, position_by_id=0, reason=3, volume_initial=0.01, volume_current=0.0, price_open=0.0, sl=1.06087, tp=1.07263, price_current=1.0688900000000001, price_stoplimit=0.0, symbol='EURUSD-Z', comment='', external_id='4023167699394033961'),\n",
       " TradeOrder(ticket=1127675212, time_setup=1677001140, time_setup_msc=1677001140693, time_done=1677001140, time_done_msc=1677001140771, time_expiration=0, type=0, type_time=0, type_filling=0, state=4, magic=16, position_id=1127675212, position_by_id=0, reason=3, volume_initial=0.01, volume_current=0.0, price_open=0.0, sl=1.06087, tp=1.07263, price_current=1.0688900000000001, price_stoplimit=0.0, symbol='EURUSD-Z', comment='', external_id='4023167699394033963'),\n",
       " TradeOrder(ticket=1127675304, time_setup=1677001189, time_setup_msc=1677001189586, time_done=1677001189, time_done_msc=1677001189646, time_expiration=0, type=0, type_time=0, type_filling=0, state=4, magic=0, position_id=1127675202, position_by_id=0, reason=0, volume_initial=0.06, volume_current=0.0, price_open=0.0, sl=0.0, tp=0.0, price_current=1.06897, price_stoplimit=0.0, symbol='EURUSD-Z', comment='', external_id='4023167699398934175'),\n",
       " TradeOrder(ticket=1127675338, time_setup=1677001193, time_setup_msc=1677001193257, time_done=1677001193, time_done_msc=1677001193334, time_expiration=0, type=1, type_time=0, type_filling=0, state=4, magic=0, position_id=1127675211, position_by_id=0, reason=0, volume_initial=0.01, volume_current=0.0, price_open=0.0, sl=0.0, tp=0.0, price_current=1.06905, price_stoplimit=0.0, symbol='EURUSD-Z', comment='', external_id='4023167699399334249'),\n",
       " TradeOrder(ticket=1127675356, time_setup=1677001198, time_setup_msc=1677001198377, time_done=1677001198, time_done_msc=1677001198459, time_expiration=0, type=1, type_time=0, type_filling=0, state=4, magic=0, position_id=1127675212, position_by_id=0, reason=0, volume_initial=0.01, volume_current=0.0, price_open=0.0, sl=0.0, tp=0.0, price_current=1.06908, price_stoplimit=0.0, symbol='EURUSD-Z', comment='', external_id='4023167699399834289'),\n",
       " TradeOrder(ticket=1127675684, time_setup=1677001260, time_setup_msc=1677001260103, time_done=1677001260, time_done_msc=1677001260168, time_expiration=0, type=1, type_time=0, type_filling=0, state=4, magic=15, position_id=1127675684, position_by_id=0, reason=3, volume_initial=0.1, volume_current=0.0, price_open=0.0, sl=1.07458, tp=1.06388, price_current=1.06923, price_stoplimit=0.0, symbol='EURUSD-Z', comment='', external_id='4023167699406035023'),\n",
       " TradeOrder(ticket=1127675950, time_setup=1677001306, time_setup_msc=1677001306906, time_done=1677001306, time_done_msc=1677001306977, time_expiration=0, type=0, type_time=0, type_filling=0, state=4, magic=0, position_id=1127675684, position_by_id=0, reason=0, volume_initial=0.1, volume_current=0.0, price_open=0.0, sl=0.0, tp=0.0, price_current=1.06964, price_stoplimit=0.0, symbol='EURUSD-Z', comment='', external_id='4023167699410635677'),\n",
       " TradeOrder(ticket=1127675986, time_setup=1677001320, time_setup_msc=1677001320130, time_done=1677001320, time_done_msc=1677001320212, time_expiration=0, type=1, type_time=0, type_filling=0, state=4, magic=15, position_id=1127675986, position_by_id=0, reason=3, volume_initial=0.1, volume_current=0.0, price_open=0.0, sl=1.07489, tp=1.06419, price_current=1.06954, price_stoplimit=0.0, symbol='EURUSD-Z', comment='', external_id='4023167699412035755'),\n",
       " TradeOrder(ticket=1127675990, time_setup=1677001320, time_setup_msc=1677001320258, time_done=1677001320, time_done_msc=1677001320324, time_expiration=0, type=0, type_time=0, type_filling=0, state=4, magic=16, position_id=1127675986, position_by_id=0, reason=3, volume_initial=0.01, volume_current=0.0, price_open=0.0, sl=0.0, tp=0.0, price_current=1.06955, price_stoplimit=0.0, symbol='EURUSD-Z', comment='', external_id='4023167699412035757'),\n",
       " TradeOrder(ticket=1127675991, time_setup=1677001320, time_setup_msc=1677001320352, time_done=1677001320, time_done_msc=1677001320423, time_expiration=0, type=0, type_time=0, type_filling=0, state=4, magic=16, position_id=1127675986, position_by_id=0, reason=3, volume_initial=0.02, volume_current=0.0, price_open=0.0, sl=0.0, tp=0.0, price_current=1.06955, price_stoplimit=0.0, symbol='EURUSD-Z', comment='', external_id='4023167699412035760'),\n",
       " TradeOrder(ticket=1127675993, time_setup=1677001320, time_setup_msc=1677001320451, time_done=1677001320, time_done_msc=1677001320541, time_expiration=0, type=0, type_time=0, type_filling=0, state=4, magic=16, position_id=1127675986, position_by_id=0, reason=3, volume_initial=0.01, volume_current=0.0, price_open=0.0, sl=0.0, tp=0.0, price_current=1.06953, price_stoplimit=0.0, symbol='EURUSD-Z', comment='', external_id='4023167699412035774'),\n",
       " TradeOrder(ticket=1127676000, time_setup=1677001320, time_setup_msc=1677001320654, time_done=1677001320, time_done_msc=1677001320728, time_expiration=0, type=0, type_time=0, type_filling=0, state=4, magic=16, position_id=1127676000, position_by_id=0, reason=3, volume_initial=0.01, volume_current=0.0, price_open=0.0, sl=1.06151, tp=1.07327, price_current=1.06951, price_stoplimit=0.0, symbol='EURUSD-Z', comment='', external_id='4023167699412035785'),\n",
       " TradeOrder(ticket=1127676001, time_setup=1677001320, time_setup_msc=1677001320761, time_done=1677001320, time_done_msc=1677001320837, time_expiration=0, type=0, type_time=0, type_filling=0, state=4, magic=16, position_id=1127676001, position_by_id=0, reason=3, volume_initial=0.01, volume_current=0.0, price_open=0.0, sl=1.06149, tp=1.07325, price_current=1.06951, price_stoplimit=0.0, symbol='EURUSD-Z', comment='', external_id='4023167699412035788'),\n",
       " TradeOrder(ticket=1127676167, time_setup=1677001380, time_setup_msc=1677001380112, time_done=1677001380, time_done_msc=1677001380165, time_expiration=0, type=0, type_time=0, type_filling=0, state=4, magic=16, position_id=1127675986, position_by_id=0, reason=3, volume_initial=0.02, volume_current=0.0, price_open=0.0, sl=0.0, tp=0.0, price_current=1.06937, price_stoplimit=0.0, symbol='EURUSD-Z', comment='', external_id='4023167699418036158'),\n",
       " TradeOrder(ticket=1127676249, time_setup=1677001418, time_setup_msc=1677001418896, time_done=1677001418, time_done_msc=1677001418946, time_expiration=0, type=0, type_time=0, type_filling=0, state=4, magic=0, position_id=1127675986, position_by_id=0, reason=0, volume_initial=0.04, volume_current=0.0, price_open=0.0, sl=0.0, tp=0.0, price_current=1.06931, price_stoplimit=0.0, symbol='EURUSD-Z', comment='', external_id='4023167699421836352'),\n",
       " TradeOrder(ticket=1127676253, time_setup=1677001423, time_setup_msc=1677001423710, time_done=1677001423, time_done_msc=1677001423774, time_expiration=0, type=1, type_time=0, type_filling=0, state=4, magic=0, position_id=1127676000, position_by_id=0, reason=0, volume_initial=0.01, volume_current=0.0, price_open=0.0, sl=0.0, tp=0.0, price_current=1.06931, price_stoplimit=0.0, symbol='EURUSD-Z', comment='', external_id='4023167699422336366'),\n",
       " TradeOrder(ticket=1127676258, time_setup=1677001428, time_setup_msc=1677001428886, time_done=1677001428, time_done_msc=1677001428946, time_expiration=0, type=1, type_time=0, type_filling=0, state=4, magic=0, position_id=1127676001, position_by_id=0, reason=0, volume_initial=0.01, volume_current=0.0, price_open=0.0, sl=0.0, tp=0.0, price_current=1.0693, price_stoplimit=0.0, symbol='EURUSD-Z', comment='', external_id='4023167699422836389'),\n",
       " TradeOrder(ticket=1127676965, time_setup=1677001680, time_setup_msc=1677001680088, time_done=1677001680, time_done_msc=1677001680143, time_expiration=0, type=1, type_time=0, type_filling=0, state=4, magic=15, position_id=1127676965, position_by_id=0, reason=3, volume_initial=0.1, volume_current=0.0, price_open=0.0, sl=1.07415, tp=1.06347, price_current=1.06882, price_stoplimit=0.0, symbol='EURUSD-Z', comment='', external_id='4023167699448038287'),\n",
       " TradeOrder(ticket=1127676966, time_setup=1677001680, time_setup_msc=1677001680187, time_done=1677001680, time_done_msc=1677001680273, time_expiration=0, type=0, type_time=0, type_filling=0, state=4, magic=16, position_id=1127676965, position_by_id=0, reason=3, volume_initial=0.02, volume_current=0.0, price_open=0.0, sl=0.0, tp=0.0, price_current=1.06882, price_stoplimit=0.0, symbol='EURUSD-Z', comment='', external_id='4023167699448038289'),\n",
       " TradeOrder(ticket=1127676967, time_setup=1677001680, time_setup_msc=1677001680311, time_done=1677001680, time_done_msc=1677001680378, time_expiration=0, type=0, type_time=0, type_filling=0, state=4, magic=16, position_id=1127676965, position_by_id=0, reason=3, volume_initial=0.01, volume_current=0.0, price_open=0.0, sl=0.0, tp=0.0, price_current=1.06883, price_stoplimit=0.0, symbol='EURUSD-Z', comment='', external_id='4023167699448038296'),\n",
       " TradeOrder(ticket=1127676991, time_setup=1677001696, time_setup_msc=1677001696563, time_done=1677001696, time_done_msc=1677001696628, time_expiration=0, type=0, type_time=0, type_filling=0, state=4, magic=0, position_id=1127676965, position_by_id=0, reason=0, volume_initial=0.07, volume_current=0.0, price_open=0.0, sl=0.0, tp=0.0, price_current=1.0686, price_stoplimit=0.0, symbol='EURUSD-Z', comment='', external_id='4023167699449638434'),\n",
       " TradeOrder(ticket=1127677061, time_setup=1677001740, time_setup_msc=1677001740090, time_done=1677001740, time_done_msc=1677001740175, time_expiration=0, type=1, type_time=0, type_filling=0, state=4, magic=15, position_id=1127677061, position_by_id=0, reason=3, volume_initial=0.1, volume_current=0.0, price_open=0.0, sl=1.07394, tp=1.06326, price_current=1.0686, price_stoplimit=0.0, symbol='EURUSD-Z', comment='', external_id='4023167699454038630'),\n",
       " TradeOrder(ticket=1127677355, time_setup=1677001861, time_setup_msc=1677001861385, time_done=1677001861, time_done_msc=1677001861460, time_expiration=0, type=0, type_time=0, type_filling=0, state=4, magic=16, position_id=1127677061, position_by_id=0, reason=3, volume_initial=0.02, volume_current=0.0, price_open=0.0, sl=0.0, tp=0.0, price_current=1.06881, price_stoplimit=0.0, symbol='EURUSD-Z', comment='', external_id='4023167699466139411'),\n",
       " TradeOrder(ticket=1127677358, time_setup=1677001861, time_setup_msc=1677001861677, time_done=1677001861, time_done_msc=1677001861741, time_expiration=0, type=0, type_time=0, type_filling=0, state=4, magic=16, position_id=1127677061, position_by_id=0, reason=3, volume_initial=0.01, volume_current=0.0, price_open=0.0, sl=0.0, tp=0.0, price_current=1.06881, price_stoplimit=0.0, symbol='EURUSD-Z', comment='', external_id='4023167699466139414'),\n",
       " TradeOrder(ticket=1127677464, time_setup=1677001920, time_setup_msc=1677001920147, time_done=1677001920, time_done_msc=1677001920226, time_expiration=0, type=0, type_time=0, type_filling=0, state=4, magic=16, position_id=1127677061, position_by_id=0, reason=3, volume_initial=0.02, volume_current=0.0, price_open=0.0, sl=0.0, tp=0.0, price_current=1.06852, price_stoplimit=0.0, symbol='EURUSD-Z', comment='', external_id='4023167699472039689'),\n",
       " TradeOrder(ticket=1127677465, time_setup=1677001920, time_setup_msc=1677001920272, time_done=1677001920, time_done_msc=1677001920353, time_expiration=0, type=0, type_time=0, type_filling=0, state=4, magic=16, position_id=1127677061, position_by_id=0, reason=3, volume_initial=0.01, volume_current=0.0, price_open=0.0, sl=0.0, tp=0.0, price_current=1.06852, price_stoplimit=0.0, symbol='EURUSD-Z', comment='', external_id='4023167699472039694'),\n",
       " TradeOrder(ticket=1127677548, time_setup=1677001980, time_setup_msc=1677001980137, time_done=1677001980, time_done_msc=1677001980197, time_expiration=0, type=0, type_time=0, type_filling=0, state=4, magic=16, position_id=1127677061, position_by_id=0, reason=3, volume_initial=0.02, volume_current=0.0, price_open=0.0, sl=0.0, tp=0.0, price_current=1.06841, price_stoplimit=0.0, symbol='EURUSD-Z', comment='', external_id='4023167699478040058'),\n",
       " TradeOrder(ticket=1127677549, time_setup=1677001980, time_setup_msc=1677001980245, time_done=1677001980, time_done_msc=1677001980323, time_expiration=0, type=0, type_time=0, type_filling=0, state=4, magic=16, position_id=1127677061, position_by_id=0, reason=3, volume_initial=0.01, volume_current=0.0, price_open=0.0, sl=0.0, tp=0.0, price_current=1.06841, price_stoplimit=0.0, symbol='EURUSD-Z', comment='', external_id='4023167699478040060'),\n",
       " TradeOrder(ticket=1127679228, time_setup=1677002789, time_setup_msc=1677002789594, time_done=1677002789, time_done_msc=1677002789675, time_expiration=0, type=0, type_time=0, type_filling=0, state=4, magic=0, position_id=1127677061, position_by_id=0, reason=0, volume_initial=0.01, volume_current=0.0, price_open=0.0, sl=0.0, tp=0.0, price_current=1.06773, price_stoplimit=0.0, symbol='EURUSD-Z', comment='', external_id='4023167699558945087'),\n",
       " TradeOrder(ticket=1127679290, time_setup=1677002820, time_setup_msc=1677002820086, time_done=1677002820, time_done_msc=1677002820157, time_expiration=0, type=1, type_time=0, type_filling=0, state=4, magic=15, position_id=1127679290, position_by_id=0, reason=3, volume_initial=0.1, volume_current=0.0, price_open=0.0, sl=1.07297, tp=1.06229, price_current=1.06763, price_stoplimit=0.0, symbol='EURUSD-Z', comment='', external_id='4023167699562045309'),\n",
       " TradeOrder(ticket=1127679292, time_setup=1677002820, time_setup_msc=1677002820199, time_done=1677002820, time_done_msc=1677002820282, time_expiration=0, type=0, type_time=0, type_filling=0, state=4, magic=16, position_id=1127679290, position_by_id=0, reason=3, volume_initial=0.02, volume_current=0.0, price_open=0.0, sl=0.0, tp=0.0, price_current=1.06764, price_stoplimit=0.0, symbol='EURUSD-Z', comment='', external_id='4023167699562045319'),\n",
       " TradeOrder(ticket=1127679293, time_setup=1677002820, time_setup_msc=1677002820323, time_done=1677002820, time_done_msc=1677002820379, time_expiration=0, type=0, type_time=0, type_filling=0, state=4, magic=16, position_id=1127679290, position_by_id=0, reason=3, volume_initial=0.01, volume_current=0.0, price_open=0.0, sl=0.0, tp=0.0, price_current=1.06764, price_stoplimit=0.0, symbol='EURUSD-Z', comment='', external_id='4023167699562045322'),\n",
       " TradeOrder(ticket=1127679294, time_setup=1677002820, time_setup_msc=1677002820409, time_done=1677002820, time_done_msc=1677002820470, time_expiration=0, type=0, type_time=0, type_filling=0, state=4, magic=16, position_id=1127679294, position_by_id=0, reason=3, volume_initial=0.01, volume_current=0.0, price_open=0.0, sl=1.05963, tp=1.07138, price_current=1.06764, price_stoplimit=0.0, symbol='EURUSD-Z', comment='', external_id='4023167699562045323'),\n",
       " TradeOrder(ticket=1127679397, time_setup=1677002880, time_setup_msc=1677002880165, time_done=1677002880, time_done_msc=1677002880221, time_expiration=0, type=0, type_time=0, type_filling=0, state=4, magic=16, position_id=1127679290, position_by_id=0, reason=3, volume_initial=0.02, volume_current=0.0, price_open=0.0, sl=0.0, tp=0.0, price_current=1.06753, price_stoplimit=0.0, symbol='EURUSD-Z', comment='', external_id='4023167699568045611'),\n",
       " TradeOrder(ticket=1127679520, time_setup=1677002940, time_setup_msc=1677002940263, time_done=1677002940, time_done_msc=1677002940347, time_expiration=0, type=0, type_time=0, type_filling=0, state=4, magic=16, position_id=1127679290, position_by_id=0, reason=3, volume_initial=0.02, volume_current=0.0, price_open=0.0, sl=0.0, tp=0.0, price_current=1.06731, price_stoplimit=0.0, symbol='EURUSD-Z', comment='', external_id='4023167699574045986'),\n",
       " TradeOrder(ticket=1127679744, time_setup=1677003000, time_setup_msc=1677003000146, time_done=1677003000, time_done_msc=1677003000210, time_expiration=0, type=0, type_time=0, type_filling=0, state=4, magic=16, position_id=1127679290, position_by_id=0, reason=3, volume_initial=0.02, volume_current=0.0, price_open=0.0, sl=0.0, tp=0.0, price_current=1.06728, price_stoplimit=0.0, symbol='EURUSD-Z', comment='', external_id='4023167699580046536'),\n",
       " TradeOrder(ticket=1127682748, time_setup=1677004487, time_setup_msc=1677004487195, time_done=1677004487, time_done_msc=1677004487276, time_expiration=0, type=0, type_time=0, type_filling=0, state=4, magic=0, position_id=1127679290, position_by_id=0, reason=0, volume_initial=0.01, volume_current=0.0, price_open=0.0, sl=0.0, tp=0.0, price_current=1.06703, price_stoplimit=0.0, symbol='EURUSD-Z', comment='', external_id='4023167699728755123'),\n",
       " TradeOrder(ticket=1127682756, time_setup=1677004493, time_setup_msc=1677004493400, time_done=1677004493, time_done_msc=1677004493494, time_expiration=0, type=1, type_time=0, type_filling=0, state=4, magic=0, position_id=1127679294, position_by_id=0, reason=0, volume_initial=0.01, volume_current=0.0, price_open=0.0, sl=0.0, tp=0.0, price_current=1.06697, price_stoplimit=0.0, symbol='EURUSD-Z', comment='', external_id='4023167699729355143'),\n",
       " TradeOrder(ticket=1127682769, time_setup=1677004500, time_setup_msc=1677004500181, time_done=1677004500, time_done_msc=1677004500247, time_expiration=0, type=1, type_time=0, type_filling=0, state=4, magic=15, position_id=1127682769, position_by_id=0, reason=3, volume_initial=0.1, volume_current=0.0, price_open=0.0, sl=1.07237, tp=1.06169, price_current=1.06703, price_stoplimit=0.0, symbol='EURUSD-Z', comment='', external_id='4023167699730055160'),\n",
       " TradeOrder(ticket=1127682844, time_setup=1677004538, time_setup_msc=1677004538010, time_done=1677004538, time_done_msc=1677004538104, time_expiration=0, type=0, type_time=0, type_filling=0, state=4, magic=0, position_id=1127682769, position_by_id=0, reason=0, volume_initial=0.1, volume_current=0.0, price_open=0.0, sl=0.0, tp=0.0, price_current=1.06692, price_stoplimit=0.0, symbol='EURUSD-Z', comment='', external_id='4023167699733855306'),\n",
       " TradeOrder(ticket=1127682896, time_setup=1677004562, time_setup_msc=1677004562561, time_done=1677004562, time_done_msc=1677004562636, time_expiration=0, type=0, type_time=0, type_filling=0, state=4, magic=16, position_id=1127682896, position_by_id=0, reason=3, volume_initial=0.01, volume_current=0.0, price_open=0.0, sl=0.68209, tp=0.68965, price_current=0.68724, price_stoplimit=0.0, symbol='AUDUSD-Z', comment='', external_id='4023167699736255399'),\n",
       " TradeOrder(ticket=1127682958, time_setup=1677004620, time_setup_msc=1677004620951, time_done=1677004621, time_done_msc=1677004621012, time_expiration=0, type=1, type_time=0, type_filling=0, state=4, magic=15, position_id=1127682958, position_by_id=0, reason=3, volume_initial=0.1, volume_current=0.0, price_open=0.0, sl=1.07221, tp=1.06155, price_current=1.06688, price_stoplimit=0.0, symbol='EURUSD-Z', comment='', external_id='4023167699742055554'),\n",
       " TradeOrder(ticket=1127686380, time_setup=1677006807, time_setup_msc=1677006807161, time_done=1677006807, time_done_msc=1677006807227, time_expiration=0, type=0, type_time=0, type_filling=0, state=4, magic=0, position_id=1127682958, position_by_id=0, reason=0, volume_initial=0.1, volume_current=0.0, price_open=0.0, sl=0.0, tp=0.0, price_current=1.06579, price_stoplimit=0.0, symbol='EURUSD-Z', comment='', external_id='4023167699960762030'),\n",
       " TradeOrder(ticket=1127686405, time_setup=1677006810, time_setup_msc=1677006810114, time_done=1677006810, time_done_msc=1677006810178, time_expiration=0, type=1, type_time=0, type_filling=0, state=4, magic=0, position_id=1127682896, position_by_id=0, reason=0, volume_initial=0.01, volume_current=0.0, price_open=0.0, sl=0.0, tp=0.0, price_current=0.68568, price_stoplimit=0.0, symbol='AUDUSD-Z', comment='', external_id='4023167699961062077'),\n",
       " TradeOrder(ticket=1127686421, time_setup=1677006817, time_setup_msc=1677006817012, time_done=1677006817, time_done_msc=1677006817070, time_expiration=0, type=0, type_time=0, type_filling=0, state=4, magic=16, position_id=1127686421, position_by_id=0, reason=3, volume_initial=0.01, volume_current=0.0, price_open=0.0, sl=0.68067, tp=0.68821, price_current=0.68581, price_stoplimit=0.0, symbol='AUDUSD-Z', comment='', external_id='4023167699961762100'),\n",
       " TradeOrder(ticket=1127686441, time_setup=1677006840, time_setup_msc=1677006840062, time_done=1677006840, time_done_msc=1677006840117, time_expiration=0, type=0, type_time=0, type_filling=0, state=4, magic=15, position_id=1127686441, position_by_id=0, reason=3, volume_initial=0.1, volume_current=0.0, price_open=0.0, sl=1.06041, tp=1.07107, price_current=1.06574, price_stoplimit=0.0, symbol='EURUSD-Z', comment='', external_id='4023167699964062151'),\n",
       " TradeOrder(ticket=1127696974, time_setup=1677013176, time_setup_msc=1677013176911, time_done=1677013176, time_done_msc=1677013176976, time_expiration=0, type=1, type_time=0, type_filling=0, state=4, magic=0, position_id=1127686421, position_by_id=0, reason=0, volume_initial=0.01, volume_current=0.0, price_open=0.0, sl=0.0, tp=0.0, price_current=0.68529, price_stoplimit=0.0, symbol='AUDUSD-Z', comment='', external_id='4023167700597614641'),\n",
       " TradeOrder(ticket=1127697013, time_setup=1677013180, time_setup_msc=1677013180194, time_done=1677013180, time_done_msc=1677013180257, time_expiration=0, type=1, type_time=0, type_filling=0, state=4, magic=0, position_id=1127686441, position_by_id=0, reason=0, volume_initial=0.1, volume_current=0.0, price_open=0.0, sl=0.0, tp=0.0, price_current=1.06418, price_stoplimit=0.0, symbol='EURUSD-Z', comment='', external_id='4023167700598014680'),\n",
       " TradeOrder(ticket=1127697098, time_setup=1677013200, time_setup_msc=1677013200094, time_done=1677013200, time_done_msc=1677013200152, time_expiration=0, type=0, type_time=0, type_filling=0, state=4, magic=15, position_id=1127697098, position_by_id=0, reason=3, volume_initial=0.1, volume_current=0.0, price_open=0.0, sl=1.05896, tp=1.0695999999999999, price_current=1.0643, price_stoplimit=0.0, symbol='EURUSD-Z', comment='', external_id='4023167700600014811'),\n",
       " TradeOrder(ticket=1127697125, time_setup=1677013200, time_setup_msc=1677013200203, time_done=1677013200, time_done_msc=1677013200280, time_expiration=0, type=0, type_time=0, type_filling=0, state=4, magic=16, position_id=1127697125, position_by_id=0, reason=3, volume_initial=0.01, volume_current=0.0, price_open=0.0, sl=0.68028, tp=0.68782, price_current=0.68542, price_stoplimit=0.0, symbol='AUDUSD-Z', comment='', external_id='4023167700600014831'),\n",
       " TradeOrder(ticket=1127697247, time_setup=1677013230, time_setup_msc=1677013230882, time_done=1677013230, time_done_msc=1677013230963, time_expiration=0, type=1, type_time=0, type_filling=0, state=4, magic=0, position_id=1127697098, position_by_id=0, reason=0, volume_initial=0.1, volume_current=0.0, price_open=0.0, sl=0.0, tp=0.0, price_current=1.06424, price_stoplimit=0.0, symbol='EURUSD-Z', comment='', external_id='4023167700603015125'),\n",
       " TradeOrder(ticket=1127697677, time_setup=1677013440, time_setup_msc=1677013440089, time_done=1677013440, time_done_msc=1677013440153, time_expiration=0, type=0, type_time=0, type_filling=0, state=4, magic=15, position_id=1127697677, position_by_id=0, reason=3, volume_initial=0.1, volume_current=0.0, price_open=0.0, sl=1.05887, tp=1.06951, price_current=1.06419, price_stoplimit=0.0, symbol='EURUSD-Z', comment='', external_id='4023167700624015956'),\n",
       " TradeOrder(ticket=1127729005, time_setup=1677057745, time_setup_msc=1677057745171, time_done=1677057745, time_done_msc=1677057745240, time_expiration=0, type=1, type_time=0, type_filling=0, state=4, magic=0, position_id=1127697125, position_by_id=0, reason=0, volume_initial=0.01, volume_current=0.0, price_open=0.0, sl=0.0, tp=0.0, price_current=0.68234, price_stoplimit=0.0, symbol='AUDUSD-Z', comment='', external_id='4023167705054502053'),\n",
       " TradeOrder(ticket=1127729008, time_setup=1677057748, time_setup_msc=1677057748006, time_done=1677057748, time_done_msc=1677057748068, time_expiration=0, type=1, type_time=0, type_filling=0, state=4, magic=0, position_id=1127697677, position_by_id=0, reason=0, volume_initial=0.1, volume_current=0.0, price_open=0.0, sl=0.0, tp=0.0, price_current=1.06536, price_stoplimit=0.0, symbol='EURUSD-Z', comment='', external_id='4023167705054802055'),\n",
       " TradeOrder(ticket=1127729043, time_setup=1677057781, time_setup_msc=1677057781870, time_done=1677057781, time_done_msc=1677057781956, time_expiration=0, type=0, type_time=0, type_filling=0, state=4, magic=16, position_id=1127729043, position_by_id=0, reason=3, volume_initial=0.01, volume_current=0.0, price_open=0.0, sl=0.67738, tp=0.68489, price_current=0.6825, price_stoplimit=0.0, symbol='AUDUSD-Z', comment='', external_id='4023167705058102095'),\n",
       " TradeOrder(ticket=1127729060, time_setup=1677057790, time_setup_msc=1677057790704, time_done=1677057790, time_done_msc=1677057790784, time_expiration=0, type=1, type_time=0, type_filling=0, state=4, magic=0, position_id=1127729043, position_by_id=0, reason=0, volume_initial=0.01, volume_current=0.0, price_open=0.0, sl=0.0, tp=0.0, price_current=0.68242, price_stoplimit=0.0, symbol='AUDUSD-Z', comment='', external_id='4023167705059002116'),\n",
       " TradeOrder(ticket=1127729193, time_setup=1677057902, time_setup_msc=1677057902372, time_done=1677057902, time_done_msc=1677057902429, time_expiration=0, type=0, type_time=0, type_filling=0, state=4, magic=16, position_id=1127729193, position_by_id=0, reason=3, volume_initial=0.01, volume_current=0.0, price_open=0.0, sl=0.67779, tp=0.6853, price_current=0.68291, price_stoplimit=0.0, symbol='AUDUSD-Z', comment='', external_id='4023167705070202317'),\n",
       " TradeOrder(ticket=1127729204, time_setup=1677057910, time_setup_msc=1677057910372, time_done=1677057910, time_done_msc=1677057910434, time_expiration=0, type=1, type_time=0, type_filling=0, state=4, magic=0, position_id=1127729193, position_by_id=0, reason=0, volume_initial=0.01, volume_current=0.0, price_open=0.0, sl=0.0, tp=0.0, price_current=0.68284, price_stoplimit=0.0, symbol='AUDUSD-Z', comment='', external_id='4023167705071002336'),\n",
       " TradeOrder(ticket=1127729326, time_setup=1677058020, time_setup_msc=1677058020657, time_done=1677058020, time_done_msc=1677058020730, time_expiration=0, type=0, type_time=0, type_filling=0, state=4, magic=16, position_id=1127729326, position_by_id=0, reason=3, volume_initial=0.01, volume_current=0.0, price_open=0.0, sl=0.67763, tp=0.68514, price_current=0.68275, price_stoplimit=0.0, symbol='AUDUSD-Z', comment='', external_id='4023167705082002455'),\n",
       " TradeOrder(ticket=1127983868, time_setup=1677244485, time_setup_msc=1677244485471, time_done=1677244485, time_done_msc=1677244485477, time_expiration=0, type=1, type_time=0, type_filling=1, state=4, magic=16, position_id=1127729326, position_by_id=0, reason=4, volume_initial=0.01, volume_current=0.0, price_open=0.67763, sl=0.0, tp=0.0, price_current=0.67763, price_stoplimit=0.0, symbol='AUDUSD-Z', comment='[sl 0.67763]', external_id='4023167723728515315'),\n",
       " TradeOrder(ticket=1128585985, time_setup=1677766390, time_setup_msc=1677766390071, time_done=1677766390, time_done_msc=1677766390158, time_expiration=0, type=0, type_time=0, type_filling=0, state=4, magic=0, position_id=1128585985, position_by_id=0, reason=3, volume_initial=0.01, volume_current=0.0, price_open=0.0, sl=0.0, tp=0.0, price_current=1.06245, price_stoplimit=0.0, symbol='EURUSD-Z', comment='', external_id='4023167775919049895'),\n",
       " TradeOrder(ticket=1128586019, time_setup=1677766399, time_setup_msc=1677766399465, time_done=1677766399, time_done_msc=1677766399533, time_expiration=0, type=1, type_time=0, type_filling=0, state=4, magic=0, position_id=1128586019, position_by_id=0, reason=3, volume_initial=0.01, volume_current=0.0, price_open=0.0, sl=0.0, tp=0.0, price_current=1.06231, price_stoplimit=0.0, symbol='EURUSD-Z', comment='', external_id='4023167775919949922'),\n",
       " TradeOrder(ticket=1128586042, time_setup=1677766403, time_setup_msc=1677766403370, time_done=1677766403, time_done_msc=1677766403445, time_expiration=0, type=1, type_time=0, type_filling=0, state=4, magic=0, position_id=1128585985, position_by_id=0, reason=3, volume_initial=0.01, volume_current=0.0, price_open=0.0, sl=0.0, tp=0.0, price_current=1.06238, price_stoplimit=0.0, symbol='EURUSD-Z', comment='', external_id='4023167775920349944'),\n",
       " TradeOrder(ticket=1128586336, time_setup=1677766463, time_setup_msc=1677766463468, time_done=1677766463, time_done_msc=1677766463553, time_expiration=0, type=0, type_time=0, type_filling=0, state=4, magic=0, position_id=1128586336, position_by_id=0, reason=3, volume_initial=0.01, volume_current=0.0, price_open=0.0, sl=0.0, tp=0.0, price_current=1.06262, price_stoplimit=0.0, symbol='EURUSD-Z', comment=' No specific com', external_id='4023167775926350219'),\n",
       " TradeOrder(ticket=1128586362, time_setup=1677766466, time_setup_msc=1677766466497, time_done=1677766466, time_done_msc=1677766466554, time_expiration=0, type=1, type_time=0, type_filling=0, state=4, magic=0, position_id=1128586336, position_by_id=0, reason=3, volume_initial=0.01, volume_current=0.0, price_open=0.0, sl=0.0, tp=0.0, price_current=1.06265, price_stoplimit=0.0, symbol='EURUSD-Z', comment=' No specific com', external_id='4023167775926650247'),\n",
       " TradeOrder(ticket=1128586775, time_setup=1677766542, time_setup_msc=1677766542924, time_done=1677766542, time_done_msc=1677766542996, time_expiration=0, type=0, type_time=0, type_filling=0, state=4, magic=0, position_id=1128586019, position_by_id=0, reason=0, volume_initial=0.01, volume_current=0.0, price_open=0.0, sl=0.0, tp=0.0, price_current=1.06278, price_stoplimit=0.0, symbol='EURUSD-Z', comment='', external_id='4023167775934250680'),\n",
       " TradeOrder(ticket=1128589035, time_setup=1677767067, time_setup_msc=1677767067008, time_done=1677767067, time_done_msc=1677767067089, time_expiration=0, type=0, type_time=0, type_filling=0, state=4, magic=0, position_id=1128589035, position_by_id=0, reason=3, volume_initial=0.01, volume_current=0.0, price_open=0.0, sl=0.0, tp=0.0, price_current=1.063, price_stoplimit=0.0, symbol='EURUSD-Z', comment='', external_id='4023167775986752614'),\n",
       " TradeOrder(ticket=1128589268, time_setup=1677767123, time_setup_msc=1677767123158, time_done=1677767123, time_done_msc=1677767123225, time_expiration=0, type=1, type_time=0, type_filling=0, state=4, magic=0, position_id=1128589268, position_by_id=0, reason=3, volume_initial=0.01, volume_current=0.0, price_open=0.0, sl=0.0, tp=0.0, price_current=1.06281, price_stoplimit=0.0, symbol='EURUSD-Z', comment='', external_id='4023167775992352784'),\n",
       " TradeOrder(ticket=1128589669, time_setup=1677767212, time_setup_msc=1677767212449, time_done=1677767212, time_done_msc=1677767212530, time_expiration=0, type=1, type_time=0, type_filling=0, state=4, magic=0, position_id=1128589035, position_by_id=0, reason=3, volume_initial=0.01, volume_current=0.0, price_open=0.0, sl=0.0, tp=0.0, price_current=1.06262, price_stoplimit=0.0, symbol='EURUSD-Z', comment='', external_id='4023167776001253206'),\n",
       " TradeOrder(ticket=1128589890, time_setup=1677767248, time_setup_msc=1677767248519, time_done=1677767248, time_done_msc=1677767248602, time_expiration=0, type=0, type_time=0, type_filling=0, state=4, magic=0, position_id=1128589268, position_by_id=0, reason=3, volume_initial=0.01, volume_current=0.0, price_open=0.0, sl=0.0, tp=0.0, price_current=1.06274, price_stoplimit=0.0, symbol='EURUSD-Z', comment='', external_id='4023167776004853421'),\n",
       " TradeOrder(ticket=1128590866, time_setup=1677767416, time_setup_msc=1677767416094, time_done=1677767416, time_done_msc=1677767416170, time_expiration=0, type=0, type_time=0, type_filling=0, state=4, magic=0, position_id=1128590866, position_by_id=0, reason=3, volume_initial=0.01, volume_current=0.0, price_open=0.0, sl=0.0, tp=0.0, price_current=1.06242, price_stoplimit=0.0, symbol='EURUSD-Z', comment=' No specific com', external_id='4023167776021654288'),\n",
       " TradeOrder(ticket=1128591206, time_setup=1677767491, time_setup_msc=1677767491894, time_done=1677767491, time_done_msc=1677767491968, time_expiration=0, type=1, type_time=0, type_filling=0, state=4, magic=0, position_id=1128590866, position_by_id=0, reason=3, volume_initial=0.01, volume_current=0.0, price_open=0.0, sl=0.0, tp=0.0, price_current=1.06246, price_stoplimit=0.0, symbol='EURUSD-Z', comment=' No specific com', external_id='4023167776029154524'),\n",
       " TradeOrder(ticket=1128596942, time_setup=1677768600, time_setup_msc=1677768600052, time_done=1677768600, time_done_msc=1677768600122, time_expiration=0, type=0, type_time=0, type_filling=0, state=4, magic=0, position_id=1128596942, position_by_id=0, reason=3, volume_initial=0.01, volume_current=0.0, price_open=0.0, sl=0.0, tp=0.0, price_current=1.06099, price_stoplimit=0.0, symbol='EURUSD-Z', comment='', external_id='4023167776140059523'),\n",
       " TradeOrder(ticket=1128596963, time_setup=1677768601, time_setup_msc=1677768601475, time_done=1677768601, time_done_msc=1677768601528, time_expiration=0, type=0, type_time=0, type_filling=0, state=4, magic=0, position_id=1128596963, position_by_id=0, reason=3, volume_initial=0.01, volume_current=0.0, price_open=0.0, sl=0.0, tp=0.0, price_current=1.06098, price_stoplimit=0.0, symbol='EURUSD-Z', comment='', external_id='4023167776140159563'),\n",
       " TradeOrder(ticket=1128596970, time_setup=1677768602, time_setup_msc=1677768602959, time_done=1677768603, time_done_msc=1677768603044, time_expiration=0, type=1, type_time=0, type_filling=0, state=4, magic=0, position_id=1128596970, position_by_id=0, reason=3, volume_initial=0.01, volume_current=0.0, price_open=0.0, sl=0.0, tp=0.0, price_current=1.06097, price_stoplimit=0.0, symbol='EURUSD-Z', comment='', external_id='4023167776140259579'),\n",
       " TradeOrder(ticket=1128627430, time_setup=1677774349, time_setup_msc=1677774349144, time_done=1677774349, time_done_msc=1677774349220, time_expiration=0, type=1, type_time=0, type_filling=0, state=4, magic=0, position_id=1128596942, position_by_id=0, reason=0, volume_initial=0.01, volume_current=0.0, price_open=0.0, sl=0.0, tp=0.0, price_current=1.05971, price_stoplimit=0.0, symbol='EURUSD-Z', comment='', external_id='4023167776714916127'),\n",
       " TradeOrder(ticket=1128627444, time_setup=1677774351, time_setup_msc=1677774351666, time_done=1677774351, time_done_msc=1677774351720, time_expiration=0, type=1, type_time=0, type_filling=0, state=4, magic=0, position_id=1128596963, position_by_id=0, reason=0, volume_initial=0.01, volume_current=0.0, price_open=0.0, sl=0.0, tp=0.0, price_current=1.05964, price_stoplimit=0.0, symbol='EURUSD-Z', comment='', external_id='4023167776715116134'),\n",
       " TradeOrder(ticket=1128627452, time_setup=1677774353, time_setup_msc=1677774353845, time_done=1677774353, time_done_msc=1677774353939, time_expiration=0, type=0, type_time=0, type_filling=0, state=4, magic=0, position_id=1128596970, position_by_id=0, reason=0, volume_initial=0.01, volume_current=0.0, price_open=0.0, sl=0.0, tp=0.0, price_current=1.05964, price_stoplimit=0.0, symbol='EURUSD-Z', comment='', external_id='4023167776715316143'),\n",
       " TradeOrder(ticket=1128628168, time_setup=1677774540, time_setup_msc=1677774540065, time_done=1677774540, time_done_msc=1677774540148, time_expiration=0, type=1, type_time=0, type_filling=0, state=4, magic=15, position_id=1128628168, position_by_id=0, reason=3, volume_initial=0.1, volume_current=0.0, price_open=0.0, sl=1.06514, tp=1.05316, price_current=1.05984, price_stoplimit=0.0, symbol='EURUSD-Z', comment='', external_id='4023167776734016527'),\n",
       " TradeOrder(ticket=1128629321, time_setup=1677774743, time_setup_msc=1677774743967, time_done=1677774744, time_done_msc=1677774744048, time_expiration=0, type=0, type_time=0, type_filling=0, state=4, magic=0, position_id=1128628168, position_by_id=0, reason=0, volume_initial=0.1, volume_current=0.0, price_open=0.0, sl=0.0, tp=0.0, price_current=1.05989, price_stoplimit=0.0, symbol='EURUSD-Z', comment='', external_id='4023167776754317505'))"
      ]
     },
     "execution_count": 29,
     "metadata": {},
     "output_type": "execute_result"
    }
   ],
   "source": [
    "from datetime import datetime\n",
    "from_date=datetime(2020,1,1) \n",
    "to_date=datetime.now() \n",
    "mt5.history_orders_get(from_date, to_date, group=\"*USD*\")"
   ]
  },
  {
   "cell_type": "code",
   "execution_count": 32,
   "id": "aad824d3",
   "metadata": {},
   "outputs": [
    {
     "data": {
      "text/plain": [
       "OrderSendResult(retcode=10013, deal=0, order=0, volume=0.0, price=0.0, bid=0.0, ask=0.0, comment='Invalid request', request_id=0, retcode_external=0, request=TradeRequest(action=10, magic=0, order=0, symbol='', volume=0.0, price=0.0, stoplimit=0.0, sl=0.0, tp=0.0, deviation=0, type=8, type_filling=0, type_time=0, expiration=0, comment='', position=1129037608, position_by=0))"
      ]
     },
     "execution_count": 32,
     "metadata": {},
     "output_type": "execute_result"
    }
   ],
   "source": [
    "request = {\n",
    "    \"action\": mt5.TRADE_ACTION_CLOSE_BY,\n",
    "    #\"symbol\": symbol,\n",
    "    \"position\":1129037608,\n",
    "    #\"volume\": lot,\n",
    "    \"type\": mt5.ORDER_TYPE_CLOSE_BY,\n",
    "    #\"price\": mt5.symbol_info_tick(symbol).bid,\n",
    "    #\"deviation\": deviation,\n",
    "    #\"type_filling\": filling_type,\n",
    "    #\"type_time\": mt5.ORDER_TIME_GTC\n",
    "}\n",
    "\n",
    "mt5.order_send(request)"
   ]
  },
  {
   "cell_type": "code",
   "execution_count": null,
   "id": "b9b8e549",
   "metadata": {},
   "outputs": [],
   "source": []
  },
  {
   "cell_type": "markdown",
   "id": "da90ca87",
   "metadata": {},
   "source": [
    "### Close sell order"
   ]
  },
  {
   "cell_type": "code",
   "execution_count": 45,
   "id": "9c9e8bea",
   "metadata": {},
   "outputs": [
    {
     "data": {
      "text/plain": [
       "OrderSendResult(retcode=10009, deal=0, order=1128589890, volume=0.01, price=0.0, bid=0.0, ask=0.0, comment='Request executed', request_id=10, retcode_external=0, request=TradeRequest(action=1, magic=0, order=0, symbol='EURUSD-Z', volume=0.01, price=1.06274, stoplimit=0.0, sl=0.0, tp=0.0, deviation=10, type=0, type_filling=0, type_time=0, expiration=0, comment='', position=1128589268, position_by=0))"
      ]
     },
     "execution_count": 45,
     "metadata": {},
     "output_type": "execute_result"
    }
   ],
   "source": [
    "request = {\n",
    "    \"action\": mt5.TRADE_ACTION_DEAL,\n",
    "    \"symbol\": symbol,\n",
    "    \"position\":1128589268,\n",
    "    \"volume\": lot,\n",
    "    \"type\": mt5.ORDER_TYPE_BUY,\n",
    "    \"price\": mt5.symbol_info_tick(symbol).ask,\n",
    "    \"deviation\": deviation,\n",
    "    \"type_filling\": filling_type,\n",
    "    \"type_time\": mt5.ORDER_TIME_GTC\n",
    "}\n",
    "\n",
    "mt5.order_send(request)"
   ]
  },
  {
   "cell_type": "code",
   "execution_count": null,
   "id": "e49690c0",
   "metadata": {},
   "outputs": [],
   "source": []
  },
  {
   "cell_type": "markdown",
   "id": "5c33cab2",
   "metadata": {},
   "source": [
    "### Automate the process"
   ]
  },
  {
   "cell_type": "code",
   "execution_count": 36,
   "id": "2bfc8a0b",
   "metadata": {},
   "outputs": [],
   "source": [
    "def send_order(symbol, lot, buy, sell, id_position=None, comment=\" No specific comment\", magic=0):\n",
    "    \n",
    "    # Initialize the bound between MT5 and Python\n",
    "    mt5.initialize()\n",
    "    \n",
    "    # Extract filling_mode\n",
    "    filling_type = find_filling_mode(symbol)\n",
    "    \n",
    "    \n",
    "    \"\"\" OPEN A TRADE \"\"\"\n",
    "    if buy and id_position==None:\n",
    "        request = {\n",
    "        \"action\": mt5.TRADE_ACTION_DEAL,\n",
    "        \"symbol\": symbol,\n",
    "        \"volume\": lot,\n",
    "        \"type\": mt5.ORDER_TYPE_BUY,\n",
    "        \"price\": mt5.symbol_info(symbol).ask,\n",
    "        \"deviation\": 10,\n",
    "        \"magic\": magic,\n",
    "        \"comment\": comment,\n",
    "        \"type_filling\": filling_type,\n",
    "        \"type_time\": mt5.ORDER_TIME_GTC}\n",
    "        \n",
    "        result = mt5.order_send(request)\n",
    "        return result\n",
    "        \n",
    "    if sell and id_position==None:\n",
    "        request = {\n",
    "        \"action\": mt5.TRADE_ACTION_DEAL,\n",
    "        \"symbol\": symbol,\n",
    "        \"volume\": lot,\n",
    "        \"type\": mt5.ORDER_TYPE_SELL,\n",
    "        \"price\": mt5.symbol_info(symbol).bid,\n",
    "        \"deviation\": 10,\n",
    "        \"magic\": magic,\n",
    "        \"comment\": comment,\n",
    "        \"type_filling\": filling_type,\n",
    "        \"type_time\": mt5.ORDER_TIME_GTC}\n",
    "        \n",
    "        result = mt5.order_send(request)\n",
    "        return result\n",
    "    \n",
    "    \n",
    "    \"\"\" CLOSE A TRADE \"\"\"\n",
    "    if buy and id_position!=None:\n",
    "        request = {\n",
    "        \"position\": id_position,\n",
    "        \"action\": mt5.TRADE_ACTION_DEAL,\n",
    "        \"symbol\": symbol,\n",
    "        \"volume\": lot,\n",
    "        \"type\": mt5.ORDER_TYPE_SELL,\n",
    "        \"price\": mt5.symbol_info(symbol).bid,\n",
    "        \"deviation\": 10,\n",
    "        \"magic\": magic,\n",
    "        \"comment\": comment,\n",
    "        \"type_filling\": filling_type,\n",
    "        \"type_time\": mt5.ORDER_TIME_GTC}\n",
    "        \n",
    "        result = mt5.order_send(request)\n",
    "        return result\n",
    "        \n",
    "    if sell and id_position!=None:\n",
    "        request = {\n",
    "        \"position\": id_position,\n",
    "        \"action\": mt5.TRADE_ACTION_DEAL,\n",
    "        \"symbol\": symbol,\n",
    "        \"volume\": lot,\n",
    "        \"type\": mt5.ORDER_TYPE_BUY,\n",
    "        \"price\": mt5.symbol_info(symbol).ask,\n",
    "        \"deviation\": 10,\n",
    "        \"magic\": magic,\n",
    "        \"comment\": comment,\n",
    "        \"type_filling\": filling_type,\n",
    "        \"type_time\": mt5.ORDER_TIME_GTC}\n",
    "        \n",
    "        result = mt5.order_send(request)\n",
    "        return result\n",
    "    \n"
   ]
  },
  {
   "cell_type": "code",
   "execution_count": 46,
   "id": "11cc36ae",
   "metadata": {},
   "outputs": [
    {
     "data": {
      "text/plain": [
       "OrderSendResult(retcode=10009, deal=0, order=1128590866, volume=0.01, price=0.0, bid=0.0, ask=0.0, comment=' No specific com', request_id=11, retcode_external=0, request=TradeRequest(action=1, magic=0, order=0, symbol='EURUSD-Z', volume=0.01, price=1.06242, stoplimit=0.0, sl=0.0, tp=0.0, deviation=10, type=0, type_filling=0, type_time=0, expiration=0, comment=' No specific comment', position=0, position_by=0))"
      ]
     },
     "execution_count": 46,
     "metadata": {},
     "output_type": "execute_result"
    }
   ],
   "source": [
    "information = send_order(\"EURUSD-Z\", 0.01, True, False)\n",
    "information"
   ]
  },
  {
   "cell_type": "code",
   "execution_count": 47,
   "id": "cb5d427d",
   "metadata": {},
   "outputs": [
    {
     "data": {
      "text/plain": [
       "OrderSendResult(retcode=10009, deal=0, order=1128591206, volume=0.01, price=0.0, bid=0.0, ask=0.0, comment=' No specific com', request_id=12, retcode_external=0, request=TradeRequest(action=1, magic=0, order=0, symbol='EURUSD-Z', volume=0.01, price=1.06246, stoplimit=0.0, sl=0.0, tp=0.0, deviation=10, type=1, type_filling=0, type_time=0, expiration=0, comment=' No specific comment', position=1128590866, position_by=0))"
      ]
     },
     "execution_count": 47,
     "metadata": {},
     "output_type": "execute_result"
    }
   ],
   "source": [
    "send_order(\"EURUSD-Z\", 0.01, True, False, id_position=information.order)"
   ]
  },
  {
   "cell_type": "code",
   "execution_count": null,
   "id": "e76787d2",
   "metadata": {},
   "outputs": [],
   "source": []
  }
 ],
 "metadata": {
  "kernelspec": {
   "display_name": "Python 3 (ipykernel)",
   "language": "python",
   "name": "python3"
  },
  "language_info": {
   "codemirror_mode": {
    "name": "ipython",
    "version": 3
   },
   "file_extension": ".py",
   "mimetype": "text/x-python",
   "name": "python",
   "nbconvert_exporter": "python",
   "pygments_lexer": "ipython3",
   "version": "3.7.13"
  }
 },
 "nbformat": 4,
 "nbformat_minor": 5
}
